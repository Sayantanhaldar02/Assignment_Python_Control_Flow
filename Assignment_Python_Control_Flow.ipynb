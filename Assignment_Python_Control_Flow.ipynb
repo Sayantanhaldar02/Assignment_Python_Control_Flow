{
 "cells": [
  {
   "cell_type": "markdown",
   "id": "55a39482-05e8-427e-988e-912e191eb87b",
   "metadata": {},
   "source": [
    "# Assignment : Python - Control Flow"
   ]
  },
  {
   "cell_type": "code",
   "execution_count": null,
   "id": "19b6a74c-8094-40d9-b094-736e9a3a8095",
   "metadata": {},
   "outputs": [],
   "source": []
  },
  {
   "cell_type": "markdown",
   "id": "09d50fe0-9937-4afe-a6eb-55ee0dc89583",
   "metadata": {},
   "source": [
    "# Basic If-Else Statements:"
   ]
  },
  {
   "cell_type": "markdown",
   "id": "3e996a6c-b994-4c0a-8801-115ff7801d31",
   "metadata": {},
   "source": [
    "1. Write a Python program to check if a given number is positive or negative."
   ]
  },
  {
   "cell_type": "code",
   "execution_count": 2,
   "id": "8e75d9bc-ef21-44de-8b10-86888a5f2f84",
   "metadata": {},
   "outputs": [
    {
     "name": "stdout",
     "output_type": "stream",
     "text": [
      "-----Write a Python program to check if a given number is positive or negative.-----\n",
      "\n",
      "-10 is negative number\n"
     ]
    }
   ],
   "source": [
    "print(\"-----Write a Python program to check if a given number is positive or negative.-----\")\n",
    "print()\n",
    "\n",
    "def check_number(number):\n",
    "    if number > 0:\n",
    "        return f\"{number} is positive number\"\n",
    "    elif number == 0:\n",
    "        return \"Number is 0\"\n",
    "    else :\n",
    "        return f\"{number} is negative number\"\n",
    "\n",
    "res = check_number(-10)\n",
    "print(res)"
   ]
  },
  {
   "cell_type": "markdown",
   "id": "0f1d5d78-45b3-4edc-8282-cbe852a9e8bc",
   "metadata": {},
   "source": [
    "2. Create a program that determines if a person is eligible to vote based on their age."
   ]
  },
  {
   "cell_type": "code",
   "execution_count": 3,
   "id": "973c1710-8fb1-4f27-af2a-989fbe412199",
   "metadata": {},
   "outputs": [
    {
     "name": "stdout",
     "output_type": "stream",
     "text": [
      "-----Create a program that determines if a person is eligible to vote based on their age.-----\n",
      "\n",
      "You are not eligible for vote\n"
     ]
    }
   ],
   "source": [
    "print(\"-----Create a program that determines if a person is eligible to vote based on their age.-----\")\n",
    "print()\n",
    "\n",
    "def check_eligibility(age):\n",
    "    if age >=18:\n",
    "        return \"You are eligible for vote\"\n",
    "    else:\n",
    "        return \"You are not eligible for vote\"\n",
    "res = check_eligibility(10)\n",
    "print(res)"
   ]
  },
  {
   "cell_type": "markdown",
   "id": "234fd978-842e-4f5f-9b42-4d9d4b22aa6e",
   "metadata": {},
   "source": [
    "3. Develop a program to find the maximum of two numbers using if-else statements."
   ]
  },
  {
   "cell_type": "code",
   "execution_count": 6,
   "id": "13d434ed-c606-4e85-9aa3-53e5830bfcf0",
   "metadata": {},
   "outputs": [
    {
     "name": "stdout",
     "output_type": "stream",
     "text": [
      "-----Develop a program to find the maximum of two numbers using if-else statements.-----\n",
      "\n",
      "20 is greater\n"
     ]
    }
   ],
   "source": [
    "print(\"-----Develop a program to find the maximum of two numbers using if-else statements.-----\")\n",
    "print()\n",
    "\n",
    "def find_max(num1, num2):\n",
    "    if num1>num2:\n",
    "        return f\"{num1} is greater\"\n",
    "    else:\n",
    "        return f\"{num2} is greater\"\n",
    "res = find_max(20,10)\n",
    "print(res)"
   ]
  },
  {
   "cell_type": "markdown",
   "id": "9cb2011b-7f70-4c43-b99f-24846aaf7b64",
   "metadata": {},
   "source": [
    "4. Write a Python script to classify a given year as a leap year or not."
   ]
  },
  {
   "cell_type": "code",
   "execution_count": 8,
   "id": "08290d19-8e14-479f-94b7-94f3de27256f",
   "metadata": {},
   "outputs": [
    {
     "name": "stdout",
     "output_type": "stream",
     "text": [
      "-----Write a Python script to classify a given year as a leap year or not.-----\n",
      "\n",
      "2021 is not leap-year\n"
     ]
    }
   ],
   "source": [
    "print(\"-----Write a Python script to classify a given year as a leap year or not.-----\")\n",
    "print()\n",
    "\n",
    "def check_leap_year(year):\n",
    "    if (year%4==0 and year%100 !=0) or (year%400==0):\n",
    "        return f\"{year} is leap-year\"\n",
    "    else:\n",
    "        return f\"{year} is not leap-year\"\n",
    "res = check_leap_year(2021)\n",
    "print(res)"
   ]
  },
  {
   "cell_type": "markdown",
   "id": "96b2cd68-ff1a-48d2-bd8f-3a1389bc0f4c",
   "metadata": {},
   "source": [
    "5. Create a program that checks whether a character is a vowel or a consonant."
   ]
  },
  {
   "cell_type": "code",
   "execution_count": null,
   "id": "ecc4f409-9958-42ab-b6c7-917e7194ac43",
   "metadata": {},
   "outputs": [],
   "source": [
    "print(\"-----Create a program that checks whether a character is a vowel or a consonant.-----\")\n",
    "print()\n",
    "\n",
    "def check_char(char):\n",
    "    vowel = \"aeiou\"\n",
    "    if char.lower() in vowel:\n",
    "        return f\"{char} is vowel\"\n",
    "    else:\n",
    "        return f\"{char} is consonant\"\n",
    "res = check_char(\"b\")\n",
    "print(res)"
   ]
  },
  {
   "cell_type": "markdown",
   "id": "394b4ef5-d30a-452a-8dca-b0b1a0475dae",
   "metadata": {},
   "source": [
    "6. Implement a program to determine whether a given number is even or odd."
   ]
  },
  {
   "cell_type": "code",
   "execution_count": null,
   "id": "312228ef-53ce-43a1-a3c6-686292df5beb",
   "metadata": {},
   "outputs": [],
   "source": [
    "print(\"-----Implement a program to determine whether a given number is even or odd.-----\")\n",
    "print()\n",
    "\n",
    "def check_even_odd(number):\n",
    "    if number%2==0:\n",
    "        return f\"{number} is an even number\"\n",
    "    else:\n",
    "        return f\"{number} is an odd number\"\n",
    "\n",
    "res = check_even_odd(21)\n",
    "print(res)"
   ]
  },
  {
   "cell_type": "markdown",
   "id": "2ab50133-cf84-4326-a642-d5a9251767e8",
   "metadata": {},
   "source": [
    "7. Write a Python function to calculate the absolute value of a number without using the `abs()` function."
   ]
  },
  {
   "cell_type": "code",
   "execution_count": 2,
   "id": "bff60b30-bc5a-4316-837b-6fa903cad021",
   "metadata": {},
   "outputs": [
    {
     "name": "stdout",
     "output_type": "stream",
     "text": [
      "-----Write a Python function to calculate the absolute value of a number without using the abs() function.-----\n",
      "\n",
      "10\n"
     ]
    }
   ],
   "source": [
    "print(\"-----Write a Python function to calculate the absolute value of a number without using the abs() function.-----\")\n",
    "print()\n",
    "\n",
    "def abs_value(num):\n",
    "    if num == 0:\n",
    "        return 0\n",
    "    elif num >0:\n",
    "        return num\n",
    "    else:\n",
    "        return -num\n",
    "res = abs_value(-10)\n",
    "print(res)"
   ]
  },
  {
   "cell_type": "markdown",
   "id": "509fc909-1596-455b-9ece-42bad74112b1",
   "metadata": {},
   "source": [
    "8. Develop a program that determines the largest of three given numbers using if-else statements."
   ]
  },
  {
   "cell_type": "code",
   "execution_count": 4,
   "id": "4894067b-70d9-49c8-999b-010c216c2cd9",
   "metadata": {},
   "outputs": [
    {
     "name": "stdout",
     "output_type": "stream",
     "text": [
      "-----Develop a program that determines the largest of three given numbers using if-else statements.-----\n",
      "\n"
     ]
    },
    {
     "name": "stdin",
     "output_type": "stream",
     "text": [
      "Enter number1:  20\n",
      "Enter number2:  30\n",
      "Enter number3:  5\n"
     ]
    },
    {
     "name": "stdout",
     "output_type": "stream",
     "text": [
      "30 is largest\n"
     ]
    }
   ],
   "source": [
    "print(\"-----Develop a program that determines the largest of three given numbers using if-else statements.-----\")\n",
    "print()\n",
    "def find_largets_three_num():\n",
    "    num1 = int(input(\"Enter number1: \"))\n",
    "    num2 = int(input(\"Enter number2: \"))\n",
    "    num3 = int(input(\"Enter number3: \"))\n",
    "\n",
    "    if num1>num2 and num1>num3:\n",
    "        return f\"{num1} is largest\"\n",
    "    elif num2 > num1 and num2 > num3:\n",
    "        return f\"{num2} is largest\"\n",
    "    else:\n",
    "        return f\"{num3} is largest\"\n",
    "res = find_largets_three_num()\n",
    "print(res)"
   ]
  },
  {
   "cell_type": "markdown",
   "id": "cbed1316-d69c-4306-b4e4-ee790b999c94",
   "metadata": {},
   "source": [
    "9. Create a program that checks if a given string is a palindrome."
   ]
  },
  {
   "cell_type": "code",
   "execution_count": 9,
   "id": "fd02565a-1bab-42a6-9bc5-797302b2a082",
   "metadata": {},
   "outputs": [
    {
     "name": "stdout",
     "output_type": "stream",
     "text": [
      "-----Create a program that checks if a given string is a palindrome.-----\n",
      "\n",
      "'12321' is a palindrome string\n"
     ]
    }
   ],
   "source": [
    "print(\"-----Create a program that checks if a given string is a palindrome.-----\")\n",
    "print()\n",
    "def is_palindrome(string):\n",
    "    if string == string[::-1]:\n",
    "        return f\"'{string}' is a palindrome string\"\n",
    "    else:\n",
    "        return f\"'{string}' is not a palindrome string\"\n",
    "res = is_palindrome(\"12321\")\n",
    "print(res)"
   ]
  },
  {
   "cell_type": "markdown",
   "id": "04e11654-4e0d-49d0-a871-78ee3d636a67",
   "metadata": {},
   "source": [
    "10. Write a Python program to calculate the grade based on a student's score."
   ]
  },
  {
   "cell_type": "code",
   "execution_count": 10,
   "id": "c951108a-9bf5-4a65-8aa6-5a750b0ec03a",
   "metadata": {},
   "outputs": [
    {
     "name": "stdout",
     "output_type": "stream",
     "text": [
      "-----Write a Python program to calculate the grade based on a student's score.-----\n",
      "\n"
     ]
    },
    {
     "name": "stdin",
     "output_type": "stream",
     "text": [
      "Enter student's number:  75\n"
     ]
    },
    {
     "name": "stdout",
     "output_type": "stream",
     "text": [
      "Grade B\n"
     ]
    }
   ],
   "source": [
    "print(\"-----Write a Python program to calculate the grade based on a student's score.-----\")\n",
    "print()\n",
    "\n",
    "def check_grade():\n",
    "    std_number = int(input(\"Enter student's number: \"))\n",
    "    if std_number >= 90:\n",
    "        return \"Grade A+\"\n",
    "    elif std_number >=80:\n",
    "        return \"Grade A\"\n",
    "    elif std_number >=70:\n",
    "        return \"Grade B\"\n",
    "    elif std_number >=60:\n",
    "        return \"Grade C\"\n",
    "    elif std_number >=55:\n",
    "        return \"Grade D\"\n",
    "    else:\n",
    "        return \"Fail\"\n",
    "res = check_grade()\n",
    "print(res)"
   ]
  },
  {
   "cell_type": "markdown",
   "id": "be5540c5-cc1e-4bf0-aa5f-1b2f6ee5fc84",
   "metadata": {},
   "source": [
    "11. Write a program to find the largest among three numbers using nested if-else statements."
   ]
  },
  {
   "cell_type": "code",
   "execution_count": 11,
   "id": "54fb93ad-9d1d-4731-8974-bf161173b50c",
   "metadata": {},
   "outputs": [
    {
     "name": "stdout",
     "output_type": "stream",
     "text": [
      "-----Write a program to find the largest among three numbers using nested if-else statements.-----\n",
      "\n"
     ]
    },
    {
     "name": "stdin",
     "output_type": "stream",
     "text": [
      "Enter number1:  20\n",
      "Enter number2:  30\n",
      "Enter number3:  50\n"
     ]
    },
    {
     "name": "stdout",
     "output_type": "stream",
     "text": [
      "50 is largest\n"
     ]
    }
   ],
   "source": [
    "print(\"-----Write a program to find the largest among three numbers using nested if-else statements.-----\")\n",
    "print()\n",
    "def find_largest_number_2():\n",
    "    num1 = int(input(\"Enter number1: \"))\n",
    "    num2 = int(input(\"Enter number2: \"))\n",
    "    num3 = int(input(\"Enter number3: \"))\n",
    "\n",
    "    if num1>num2:\n",
    "        if num1>num3:\n",
    "            return f\"{num1} is largest\"\n",
    "    else:\n",
    "        if num2>num1 and num2> num3:\n",
    "            return f\"{num2} is largest\"\n",
    "        else:\n",
    "            return f\"{num3} is largest\"\n",
    "\n",
    "res = find_largest_number_2()\n",
    "print(res)"
   ]
  },
  {
   "cell_type": "markdown",
   "id": "1e249a16-b051-46b5-98ae-c9e9c6e442f3",
   "metadata": {},
   "source": [
    "12. Implement a program to determine if a triangle is equilateral, isosceles, or scalene."
   ]
  },
  {
   "cell_type": "code",
   "execution_count": 12,
   "id": "026e49cf-8a5f-4ffe-96a9-0df257ecce6d",
   "metadata": {},
   "outputs": [
    {
     "name": "stdout",
     "output_type": "stream",
     "text": [
      "-----Implement a program to determine if a triangle is equilateral, isosceles, or scalene.-----\n",
      "\n"
     ]
    },
    {
     "name": "stdin",
     "output_type": "stream",
     "text": [
      "Enter side 1:  20\n",
      "Enter side 2:  30\n",
      "Enter side 3:  30\n"
     ]
    },
    {
     "name": "stdout",
     "output_type": "stream",
     "text": [
      "Isosceles Triangle\n"
     ]
    }
   ],
   "source": [
    "print(\"-----Implement a program to determine if a triangle is equilateral, isosceles, or scalene.-----\")\n",
    "print()\n",
    "def check_triangle():\n",
    "    side1 = int(input(\"Enter side 1: \"))\n",
    "    side2 = int(input(\"Enter side 2: \"))\n",
    "    side3 = int(input(\"Enter side 3: \"))\n",
    "\n",
    "    if side1 !=0 and side2!=0 and side3!=0:\n",
    "        if side1 == side2:\n",
    "            if side1 == side3:\n",
    "                return f\"Equilateral Triangle\"\n",
    "        else:\n",
    "            if side1 == side2 or side1 == side3 or side2 == side3:\n",
    "                if side1 != side2 or side1 != side3 or side2 != side3:\n",
    "                    return f\"Isosceles Triangle\"\n",
    "            else:\n",
    "                return f\"Scalene Triangle\"\n",
    "    else:\n",
    "        return \"Length can't be zero\"\n",
    "res = check_triangle()\n",
    "print(res)"
   ]
  },
  {
   "cell_type": "markdown",
   "id": "38a2e55f-39c2-480c-8a50-8d14597856a7",
   "metadata": {},
   "source": [
    "13. Develop a program that checks if a year is a leap year and also if it is a century year."
   ]
  },
  {
   "cell_type": "code",
   "execution_count": 3,
   "id": "5f3a047c-6f6c-49b1-827a-688ac03b7ec9",
   "metadata": {},
   "outputs": [
    {
     "name": "stdout",
     "output_type": "stream",
     "text": [
      "-----Develop a program that checks if a year is a leap year and also if it is a century year..-----\n",
      "\n",
      "2021 is not leap year\n"
     ]
    }
   ],
   "source": [
    "print(\"-----Develop a program that checks if a year is a leap year and also if it is a century year..-----\")\n",
    "print()\n",
    "def check_leap_year(year):\n",
    "    if (year%4==0 and year%100!=0) or year%400==0:\n",
    "        return f\"{year} is leap year\"\n",
    "    else:\n",
    "        return f\"{year} is not leap year\"\n",
    "\n",
    "res = check_leap_year(2021)\n",
    "print(res)"
   ]
  },
  {
   "cell_type": "markdown",
   "id": "247ec51d-2d82-45ee-9750-df4a44d6a21f",
   "metadata": {},
   "source": [
    "14. Write a Python script to determine if a number is positive, negative, or zero."
   ]
  },
  {
   "cell_type": "code",
   "execution_count": 4,
   "id": "c7d8fcfa-d438-4e21-ad78-e6c229386d46",
   "metadata": {},
   "outputs": [
    {
     "name": "stdout",
     "output_type": "stream",
     "text": [
      "-----Write a Python script to determine if a number is positive, negative, or zero.-----\n",
      "\n",
      "Given number is a negative number\n"
     ]
    }
   ],
   "source": [
    "print(\"-----Write a Python script to determine if a number is positive, negative, or zero.-----\")\n",
    "print()\n",
    "def check_number(number):\n",
    "    if number == 0:\n",
    "        return f\"Given number is zero\"\n",
    "    elif number>0:\n",
    "        return f'Given number is a positive number'\n",
    "    else:\n",
    "        return f\"Given number is a negative number\"\n",
    "res = check_number(-10)\n",
    "print(res)"
   ]
  },
  {
   "cell_type": "markdown",
   "id": "e0ef9089-c7d8-4c67-813d-f45622fb6e06",
   "metadata": {},
   "source": [
    "15. Create a program to check if a person is a teenager (between 13 and 19 years old)."
   ]
  },
  {
   "cell_type": "code",
   "execution_count": 5,
   "id": "b4928da2-28ad-4ba9-b016-c6e31a04f067",
   "metadata": {},
   "outputs": [
    {
     "name": "stdout",
     "output_type": "stream",
     "text": [
      "-----Create a program to check if a person is a teenager (between 13 and 19 years old).-----\n",
      "\n",
      "You are a teen ager\n"
     ]
    }
   ],
   "source": [
    "print(\"-----Create a program to check if a person is a teenager (between 13 and 19 years old).-----\")\n",
    "print()\n",
    "def check_teen_ager(age):\n",
    "    if age>= 13 and age<=19:\n",
    "        return \"You are a teen ager\"\n",
    "    else:\n",
    "        return \"you are not a teen ager\"\n",
    "res = check_teen_ager(15)\n",
    "print(res)"
   ]
  },
  {
   "cell_type": "markdown",
   "id": "7f58754a-3483-45ea-8ab1-4bf0d011f0ca",
   "metadata": {},
   "source": [
    "16. Develop a program that determines the type of angle based on its measure (acute, obtuse, or right)."
   ]
  },
  {
   "cell_type": "code",
   "execution_count": 6,
   "id": "eded4b1a-4fd8-4d13-9169-ce50bce5b939",
   "metadata": {},
   "outputs": [
    {
     "name": "stdout",
     "output_type": "stream",
     "text": [
      "-----Develop a program that determines the type of angle based on its measure (acute, obtuse, or right).-----\n",
      "\n",
      "Acute angle\n"
     ]
    }
   ],
   "source": [
    "print(\"-----Develop a program that determines the type of angle based on its measure (acute, obtuse, or right).-----\")\n",
    "print()\n",
    "\n",
    "def check_mesure_of_angle(angle_measure):\n",
    "    if angle_measure<0 or angle_measure>180:\n",
    "        return \"Invalid measure\"\n",
    "    elif angle_measure <90:\n",
    "        return \"Acute angle\"\n",
    "    elif angle_measure>90:\n",
    "        return \"Obtuse Angle\"\n",
    "    else:\n",
    "        return \"Right Angle\"\n",
    "res = check_mesure_of_angle(10)\n",
    "print(res)"
   ]
  },
  {
   "cell_type": "markdown",
   "id": "c60eb98a-8f9c-4346-9c39-2ea358f27463",
   "metadata": {},
   "source": [
    "17. Write a Python program to calculate the roots of a quadratic equation."
   ]
  },
  {
   "cell_type": "code",
   "execution_count": 1,
   "id": "05401dcc-f9b7-43d4-be7f-38b1f54449b3",
   "metadata": {},
   "outputs": [
    {
     "name": "stdout",
     "output_type": "stream",
     "text": [
      "-----Write a Python program to calculate the roots of a quadratic equation.-----\n",
      "\n"
     ]
    },
    {
     "name": "stdin",
     "output_type": "stream",
     "text": [
      "Enter coefficient a:  20\n",
      "Enter coefficient b:  30\n",
      "Enter coefficient c:  10\n"
     ]
    },
    {
     "name": "stdout",
     "output_type": "stream",
     "text": [
      "The roots of the equation are: (-0.5+0j) and (-1+0j)\n"
     ]
    }
   ],
   "source": [
    "print(\"-----Write a Python program to calculate the roots of a quadratic equation.-----\")\n",
    "print()\n",
    "\n",
    "import cmath\n",
    "\n",
    "def calculate_roots(a, b, c):\n",
    "    # Calculate the discriminant\n",
    "    discriminant = (b ** 2) - (4 * a * c)\n",
    "\n",
    "    # Calculate the roots\n",
    "    root1 = (-b + cmath.sqrt(discriminant)) / (2 * a)\n",
    "    root2 = (-b - cmath.sqrt(discriminant)) / (2 * a)\n",
    "\n",
    "    return root1, root2\n",
    "\n",
    "# Get coefficients from the user\n",
    "a = float(input(\"Enter coefficient a: \"))\n",
    "b = float(input(\"Enter coefficient b: \"))\n",
    "c = float(input(\"Enter coefficient c: \"))\n",
    "\n",
    "# Calculate and display the roots\n",
    "root1, root2 = calculate_roots(a, b, c)\n",
    "print(f\"The roots of the equation are: {root1} and {root2}\")\n"
   ]
  },
  {
   "cell_type": "markdown",
   "id": "bed4b2d6-91e8-41af-87df-f997226ef6a8",
   "metadata": {},
   "source": [
    "18. Implement a program to determine the day of the week based on a user-provided number (1 for Monday, 2\n",
    "for Tuesday, etc.)"
   ]
  },
  {
   "cell_type": "code",
   "execution_count": 2,
   "id": "a06033e7-ba05-4cda-8319-2b677d2c8bb0",
   "metadata": {},
   "outputs": [
    {
     "name": "stdout",
     "output_type": "stream",
     "text": [
      "-----Implement a program to determine the day of the week based on a user-provided number (1 for Monday, 2 for Tuesday, etc.)-----\n",
      "\n"
     ]
    },
    {
     "name": "stdin",
     "output_type": "stream",
     "text": [
      "Enter a number (1-7) to determine the day of the week:  3\n"
     ]
    },
    {
     "name": "stdout",
     "output_type": "stream",
     "text": [
      "The day corresponding to number 3 is Wednesday.\n"
     ]
    }
   ],
   "source": [
    "print(\"-----Implement a program to determine the day of the week based on a user-provided number (1 for Monday, 2 for Tuesday, etc.)-----\")\n",
    "print()\n",
    "\n",
    "def get_day_of_week(number):\n",
    "    days = {\n",
    "        1: \"Monday\",\n",
    "        2: \"Tuesday\",\n",
    "        3: \"Wednesday\",\n",
    "        4: \"Thursday\",\n",
    "        5: \"Friday\",\n",
    "        6: \"Saturday\",\n",
    "        7: \"Sunday\"\n",
    "    }\n",
    "\n",
    "    if number in days:\n",
    "        return days[number]\n",
    "    else:\n",
    "        return \"Invalid input. Please enter a number between 1 and 7.\"\n",
    "\n",
    "# Get user input for the number representing the day\n",
    "user_number = int(input(\"Enter a number (1-7) to determine the day of the week: \"))\n",
    "\n",
    "# Get the corresponding day of the week\n",
    "day_of_week = get_day_of_week(user_number)\n",
    "\n",
    "# Display the result\n",
    "print(f\"The day corresponding to number {user_number} is {day_of_week}.\")\n"
   ]
  },
  {
   "cell_type": "markdown",
   "id": "1f1aaa88-8bd0-46f7-ad07-ef907ab37390",
   "metadata": {},
   "source": [
    "19. Create a program that determines if a year is a leap year and also if it is evenly divisible by 400."
   ]
  },
  {
   "cell_type": "code",
   "execution_count": 3,
   "id": "ff510895-c8e9-4b34-8831-1502ac377280",
   "metadata": {},
   "outputs": [
    {
     "name": "stdout",
     "output_type": "stream",
     "text": [
      "-----Create a program that determines if a year is a leap year and also if it is evenly divisible by 400.-----\n",
      "\n"
     ]
    },
    {
     "name": "stdin",
     "output_type": "stream",
     "text": [
      "Enter a year:  2024\n"
     ]
    },
    {
     "name": "stdout",
     "output_type": "stream",
     "text": [
      "2024 is a leap year and is not divisible by 400.\n"
     ]
    }
   ],
   "source": [
    "print(\"-----Create a program that determines if a year is a leap year and also if it is evenly divisible by 400.-----\")\n",
    "print()\n",
    "\n",
    "def is_leap_year(year):\n",
    "    if (year % 4 == 0 and year % 100 != 0) or (year % 400 == 0):\n",
    "        return True\n",
    "    else:\n",
    "        return False\n",
    "\n",
    "# Input year from the user\n",
    "year = int(input(\"Enter a year: \"))\n",
    "\n",
    "# Check if it's a leap year and divisible by 400\n",
    "if is_leap_year(year):\n",
    "    print(f\"{year} is a leap year and {'is' if year % 400 == 0 else 'is not'} divisible by 400.\")\n",
    "else:\n",
    "    print(f\"{year} is not a leap year.\")\n"
   ]
  },
  {
   "cell_type": "markdown",
   "id": "38404725-2a9f-425a-92dc-53ae9112fa47",
   "metadata": {},
   "source": [
    "20. Develop a program that checks if a given number is prime or not using nested if-else statements."
   ]
  },
  {
   "cell_type": "code",
   "execution_count": 5,
   "id": "92090cb5-8d3e-492a-a5ad-82ffe0feda0b",
   "metadata": {},
   "outputs": [
    {
     "name": "stdout",
     "output_type": "stream",
     "text": [
      "-----Develop a program that checks if a given number is prime or not using nested if-else statements.-----\n",
      "\n"
     ]
    },
    {
     "name": "stdin",
     "output_type": "stream",
     "text": [
      "Enter a number to check if it's prime:  23\n"
     ]
    },
    {
     "name": "stdout",
     "output_type": "stream",
     "text": [
      "23 is a prime number.\n"
     ]
    }
   ],
   "source": [
    "print(\"-----Develop a program that checks if a given number is prime or not using nested if-else statements.-----\")\n",
    "print()\n",
    "\n",
    "def is_prime(number):\n",
    "    if number <= 1:\n",
    "        return False\n",
    "    elif number <= 3:\n",
    "        return True\n",
    "    elif number % 2 == 0 or number % 3 == 0:\n",
    "        return False\n",
    "    else:\n",
    "        i = 5\n",
    "        while i * i <= number:\n",
    "            if number % i == 0 or number % (i + 2) == 0:\n",
    "                return False\n",
    "            i += 6\n",
    "        return True\n",
    "\n",
    "# Input a number from the user\n",
    "num = int(input(\"Enter a number to check if it's prime: \"))\n",
    "\n",
    "# Check if the number is prime\n",
    "if is_prime(num):\n",
    "    print(f\"{num} is a prime number.\")\n",
    "else:\n",
    "    print(f\"{num} is not a prime number.\")\n"
   ]
  },
  {
   "cell_type": "markdown",
   "id": "18dfd521-23e8-4039-884b-0c7da31f586d",
   "metadata": {},
   "source": [
    "21. Write a Python program to assign grades based on different ranges of scores using elif statements"
   ]
  },
  {
   "cell_type": "code",
   "execution_count": 7,
   "id": "a4868de2-084d-4627-9e04-ed035b0e8b77",
   "metadata": {},
   "outputs": [
    {
     "name": "stdout",
     "output_type": "stream",
     "text": [
      "-----Write a Python program to assign grades based on different ranges of scores using elif statements-----\n",
      "\n"
     ]
    },
    {
     "name": "stdin",
     "output_type": "stream",
     "text": [
      "Enter the student's score:  80\n"
     ]
    },
    {
     "name": "stdout",
     "output_type": "stream",
     "text": [
      "The student's grade is: B\n"
     ]
    }
   ],
   "source": [
    "print(\"-----Write a Python program to assign grades based on different ranges of scores using elif statements-----\")\n",
    "print()\n",
    "\n",
    "def assign_grade(score):\n",
    "    if score >= 90:\n",
    "        grade = 'A'\n",
    "    elif score >= 80:\n",
    "        grade = 'B'\n",
    "    elif score >= 70:\n",
    "        grade = 'C'\n",
    "    elif score >= 60:\n",
    "        grade = 'D'\n",
    "    else:\n",
    "        grade = 'F'\n",
    "    return grade\n",
    "\n",
    "# Input a score from the user\n",
    "score = float(input(\"Enter the student's score: \"))\n",
    "\n",
    "# Assign a grade based on the score\n",
    "result = assign_grade(score)\n",
    "\n",
    "# Display the assigned grade\n",
    "print(f\"The student's grade is: {result}\")\n"
   ]
  },
  {
   "cell_type": "markdown",
   "id": "40e335cf-46bb-4ade-956c-93f7871a86dc",
   "metadata": {},
   "source": [
    "22. Implement a program to determine the type of a triangle based on its angles."
   ]
  },
  {
   "cell_type": "code",
   "execution_count": 8,
   "id": "82fb0426-a8ba-40de-8b48-2268eb53bf4b",
   "metadata": {},
   "outputs": [
    {
     "name": "stdin",
     "output_type": "stream",
     "text": [
      "Enter the first angle of the triangle:  90\n",
      "Enter the second angle of the triangle:  90\n",
      "Enter the third angle of the triangle:  60\n"
     ]
    },
    {
     "name": "stdout",
     "output_type": "stream",
     "text": [
      "The triangle with angles 90, 90, 60 is a Right-Angled Triangle.\n"
     ]
    }
   ],
   "source": [
    "def triangle_type(angle1, angle2, angle3):\n",
    "    if angle1 == angle2 == angle3 == 60:\n",
    "        return \"Equilateral Triangle\"\n",
    "    elif angle1 != angle2 != angle3 != angle1:\n",
    "        return \"Scalene Triangle\"\n",
    "    elif angle1 == 90 or angle2 == 90 or angle3 == 90:\n",
    "        return \"Right-Angled Triangle\"\n",
    "    elif angle1 > 90 or angle2 > 90 or angle3 > 90:\n",
    "        return \"Obtuse-Angled Triangle\"\n",
    "    else:\n",
    "        return \"Acute-Angled Triangle\"\n",
    "\n",
    "# Input angles from the user\n",
    "angle1 = int(input(\"Enter the first angle of the triangle: \"))\n",
    "angle2 = int(input(\"Enter the second angle of the triangle: \"))\n",
    "angle3 = int(input(\"Enter the third angle of the triangle: \"))\n",
    "\n",
    "# Check the type of triangle based on angles\n",
    "triangle = triangle_type(angle1, angle2, angle3)\n",
    "\n",
    "# Display the type of triangle\n",
    "print(f\"The triangle with angles {angle1}, {angle2}, {angle3} is a {triangle}.\")\n"
   ]
  },
  {
   "cell_type": "markdown",
   "id": "b78e4a45-9c6c-4651-afdf-2a76f793049a",
   "metadata": {},
   "source": [
    "23. Develop a program to categorize a given person's BMI into underweight, normal, overweight, or obese using\n",
    "elif statements."
   ]
  },
  {
   "cell_type": "code",
   "execution_count": 9,
   "id": "59e21bfd-76f8-4106-b95e-f96ba63e75d9",
   "metadata": {},
   "outputs": [
    {
     "name": "stdin",
     "output_type": "stream",
     "text": [
      "Enter your height in meters:  5.9\n",
      "Enter your weight in kilograms:  85\n"
     ]
    },
    {
     "name": "stdout",
     "output_type": "stream",
     "text": [
      "Your BMI is 2.44, which is categorized as Underweight.\n"
     ]
    }
   ],
   "source": [
    "def categorize_bmi(bmi):\n",
    "    if bmi < 18.5:\n",
    "        category = 'Underweight'\n",
    "    elif 18.5 <= bmi < 25:\n",
    "        category = 'Normal'\n",
    "    elif 25 <= bmi < 30:\n",
    "        category = 'Overweight'\n",
    "    else:\n",
    "        category = 'Obese'\n",
    "    return category\n",
    "\n",
    "# Input height and weight from the user\n",
    "height = float(input(\"Enter your height in meters: \"))\n",
    "weight = float(input(\"Enter your weight in kilograms: \"))\n",
    "\n",
    "# Calculate BMI (BMI formula: weight / (height * height))\n",
    "bmi = weight / (height * height)\n",
    "\n",
    "# Categorize the BMI\n",
    "result = categorize_bmi(bmi)\n",
    "\n",
    "# Display the BMI category\n",
    "print(f\"Your BMI is {bmi:.2f}, which is categorized as {result}.\")\n"
   ]
  },
  {
   "cell_type": "markdown",
   "id": "c46cbe45-d5a0-4001-930a-0223df8928da",
   "metadata": {},
   "source": [
    "24. Create a program that determines whether a given number is positive, negative, or zero using elif\n",
    "statements"
   ]
  },
  {
   "cell_type": "code",
   "execution_count": 10,
   "id": "bf09e918-78c0-40eb-b364-91e7b93a9bf0",
   "metadata": {},
   "outputs": [
    {
     "name": "stdin",
     "output_type": "stream",
     "text": [
      "Enter a number:  0\n"
     ]
    },
    {
     "name": "stdout",
     "output_type": "stream",
     "text": [
      "The number 0.0 is Zero.\n"
     ]
    }
   ],
   "source": [
    "def check_number(num):\n",
    "    if num > 0:\n",
    "        return \"Positive\"\n",
    "    elif num < 0:\n",
    "        return \"Negative\"\n",
    "    else:\n",
    "        return \"Zero\"\n",
    "\n",
    "# Input a number from the user\n",
    "number = float(input(\"Enter a number: \"))\n",
    "\n",
    "# Check whether the number is positive, negative, or zero\n",
    "result = check_number(number)\n",
    "\n",
    "# Display the result\n",
    "print(f\"The number {number} is {result}.\")\n"
   ]
  },
  {
   "cell_type": "markdown",
   "id": "05f2a62c-42d4-4b90-90b6-d61c310ea299",
   "metadata": {},
   "source": [
    "25. Write a Python script to determine the type of a character (uppercase, lowercase, or special) using elif\n",
    "statements."
   ]
  },
  {
   "cell_type": "code",
   "execution_count": 11,
   "id": "c3a2c42c-cc0b-447e-bab6-4c386fd46bf1",
   "metadata": {},
   "outputs": [
    {
     "name": "stdin",
     "output_type": "stream",
     "text": [
      "Enter a character:  s\n"
     ]
    },
    {
     "name": "stdout",
     "output_type": "stream",
     "text": [
      "The character 's' is a Lowercase.\n"
     ]
    }
   ],
   "source": [
    "def check_character_type(char):\n",
    "    if char.islower():\n",
    "        return \"Lowercase\"\n",
    "    elif char.isupper():\n",
    "        return \"Uppercase\"\n",
    "    else:\n",
    "        return \"Special Character\"\n",
    "\n",
    "# Input a character from the user\n",
    "character = input(\"Enter a character: \")\n",
    "\n",
    "# Check the type of character\n",
    "result = check_character_type(character)\n",
    "\n",
    "# Display the result\n",
    "print(f\"The character '{character}' is a {result}.\")\n"
   ]
  },
  {
   "cell_type": "markdown",
   "id": "5327d4f1-f6a9-40ff-b1f8-1344de4725f0",
   "metadata": {},
   "source": [
    "26. Implement a program to calculate the discounted price based on different purchase amounts using elif\n",
    "statements.\n",
    "\n"
   ]
  },
  {
   "cell_type": "code",
   "execution_count": 12,
   "id": "9f11b6e7-66c2-4714-95e4-afdae48d9775",
   "metadata": {},
   "outputs": [
    {
     "name": "stdin",
     "output_type": "stream",
     "text": [
      "Enter the purchase amount: $ 1010\n"
     ]
    },
    {
     "name": "stdout",
     "output_type": "stream",
     "text": [
      "The discounted price for a purchase of $1010.00 is: $808.00\n"
     ]
    }
   ],
   "source": [
    "def calculate_discounted_price(amount):\n",
    "    if amount >= 1000:\n",
    "        discount = 0.2  # 20% discount for purchases of $1000 or more\n",
    "    elif amount >= 500:\n",
    "        discount = 0.1  # 10% discount for purchases between $500 and $999.99\n",
    "    else:\n",
    "        discount = 0.05  # 5% discount for purchases below $500\n",
    "\n",
    "    discounted_price = amount - (amount * discount)\n",
    "    return discounted_price\n",
    "\n",
    "# Input purchase amount from the user\n",
    "purchase_amount = float(input(\"Enter the purchase amount: $\"))\n",
    "\n",
    "# Calculate the discounted price\n",
    "final_price = calculate_discounted_price(purchase_amount)\n",
    "\n",
    "# Display the discounted price\n",
    "print(f\"The discounted price for a purchase of ${purchase_amount:.2f} is: ${final_price:.2f}\")\n"
   ]
  },
  {
   "cell_type": "markdown",
   "id": "22163ed8-f2cb-42f3-bd08-4587dfbf6795",
   "metadata": {},
   "source": [
    "27. Develop a program to calculate the electricity bill based on different consumption slabs using elif\n",
    "statements"
   ]
  },
  {
   "cell_type": "code",
   "execution_count": 13,
   "id": "0fd5d4e6-1f9b-43dc-a67e-5880dcbdb261",
   "metadata": {},
   "outputs": [
    {
     "name": "stdin",
     "output_type": "stream",
     "text": [
      "Enter the units consumed:  2000\n"
     ]
    },
    {
     "name": "stdout",
     "output_type": "stream",
     "text": [
      "The electricity bill for 2000.0 units is: $13800.00\n"
     ]
    }
   ],
   "source": [
    "def calculate_electricity_bill(units):\n",
    "    total_bill = 0\n",
    "\n",
    "    # Define the electricity consumption slabs and corresponding rates\n",
    "    slab1_limit = 100\n",
    "    slab2_limit = 300\n",
    "    slab3_limit = 500\n",
    "\n",
    "    rate_slab1 = 3.5\n",
    "    rate_slab2 = 4.5\n",
    "    rate_slab3 = 6.5\n",
    "    rate_slab_above = 7.5\n",
    "\n",
    "    # Calculate the bill based on different consumption slabs\n",
    "    if units <= slab1_limit:\n",
    "        total_bill = units * rate_slab1\n",
    "    elif units <= slab2_limit:\n",
    "        total_bill = slab1_limit * rate_slab1 + (units - slab1_limit) * rate_slab2\n",
    "    elif units <= slab3_limit:\n",
    "        total_bill = slab1_limit * rate_slab1 + (slab2_limit - slab1_limit) * rate_slab2 + (units - slab2_limit) * rate_slab3\n",
    "    else:\n",
    "        total_bill = slab1_limit * rate_slab1 + (slab2_limit - slab1_limit) * rate_slab2 + (slab3_limit - slab2_limit) * rate_slab3 + (units - slab3_limit) * rate_slab_above\n",
    "\n",
    "    return total_bill\n",
    "\n",
    "# Input consumed units from the user\n",
    "consumed_units = float(input(\"Enter the units consumed: \"))\n",
    "\n",
    "# Calculate the electricity bill\n",
    "bill_amount = calculate_electricity_bill(consumed_units)\n",
    "\n",
    "# Display the electricity bill\n",
    "print(f\"The electricity bill for {consumed_units} units is: ${bill_amount:.2f}\")\n"
   ]
  },
  {
   "cell_type": "markdown",
   "id": "ebe4d027-c12e-4d67-a81a-f9797bc9464b",
   "metadata": {},
   "source": [
    "28. Create a program to determine the type of quadrilateral based on its angles and sides using elif\n",
    "statements."
   ]
  },
  {
   "cell_type": "code",
   "execution_count": 14,
   "id": "dfa854c2-f3be-4df1-8a96-989659408ebe",
   "metadata": {},
   "outputs": [
    {
     "name": "stdin",
     "output_type": "stream",
     "text": [
      "Enter length of side 1:  20\n",
      "Enter length of side 2:  30\n",
      "Enter length of side 3:  50\n",
      "Enter length of side 4:  50\n",
      "Enter measure of angle 1:  60\n",
      "Enter measure of angle 2:  80\n",
      "Enter measure of angle 3:  70\n",
      "Enter measure of angle 4:  60\n"
     ]
    },
    {
     "name": "stdout",
     "output_type": "stream",
     "text": [
      "The quadrilateral is a Quadrilateral.\n"
     ]
    }
   ],
   "source": [
    "def identify_quadrilateral(sides, angles):\n",
    "    if sides.count(sides[0]) == 4:\n",
    "        if angles.count(90) == 4:\n",
    "            return \"Square\"\n",
    "        else:\n",
    "            return \"Rhombus\"\n",
    "    elif angles.count(90) == 4:\n",
    "        return \"Rectangle\"\n",
    "    elif sides.count(sides[0]) == 2 and sides.count(sides[2]) == 2:\n",
    "        if angles.count(90) == 2:\n",
    "            return \"Parallelogram\"\n",
    "        else:\n",
    "            return \"Trapezoid\"\n",
    "    else:\n",
    "        return \"Quadrilateral\"\n",
    "\n",
    "# Input sides and angles from the user\n",
    "side_lengths = [float(input(f\"Enter length of side {i + 1}: \")) for i in range(4)]\n",
    "angle_measures = [float(input(f\"Enter measure of angle {i + 1}: \")) for i in range(4)]\n",
    "\n",
    "# Determine the type of quadrilateral\n",
    "result = identify_quadrilateral(side_lengths, angle_measures)\n",
    "\n",
    "# Display the type of quadrilateral\n",
    "print(f\"The quadrilateral is a {result}.\")\n"
   ]
  },
  {
   "cell_type": "markdown",
   "id": "548f4af1-fd11-4a9e-8252-adbbe4548520",
   "metadata": {},
   "source": [
    "29. Write a Python script to determine the season based on a user-provided month using elif statements."
   ]
  },
  {
   "cell_type": "code",
   "execution_count": 15,
   "id": "964e5cdb-b3b1-499d-92ba-9303c31eb105",
   "metadata": {},
   "outputs": [
    {
     "name": "stdin",
     "output_type": "stream",
     "text": [
      "Enter the month (1-12):  3\n"
     ]
    },
    {
     "name": "stdout",
     "output_type": "stream",
     "text": [
      "The season for month 3 is Spring.\n"
     ]
    }
   ],
   "source": [
    "def determine_season(month):\n",
    "    if month in (3, 4, 5):\n",
    "        season = \"Spring\"\n",
    "    elif month in (6, 7, 8):\n",
    "        season = \"Summer\"\n",
    "    elif month in (9, 10, 11):\n",
    "        season = \"Autumn/Fall\"\n",
    "    else:\n",
    "        season = \"Winter\"\n",
    "    return season\n",
    "\n",
    "# Input a month from the user\n",
    "user_month = int(input(\"Enter the month (1-12): \"))\n",
    "\n",
    "# Check the season based on the month\n",
    "result = determine_season(user_month)\n",
    "\n",
    "# Display the season\n",
    "print(f\"The season for month {user_month} is {result}.\")\n"
   ]
  },
  {
   "cell_type": "markdown",
   "id": "3b29efb1-b3fe-46af-ab5d-53139adf47bf",
   "metadata": {},
   "source": [
    "30. Implement a program to determine the type of a year (leap or common) and month (30 or 31 days) using\n",
    "elif statements."
   ]
  },
  {
   "cell_type": "code",
   "execution_count": 16,
   "id": "2e05a51b-2b0a-414e-8018-956664948f50",
   "metadata": {},
   "outputs": [
    {
     "name": "stdin",
     "output_type": "stream",
     "text": [
      "Enter the year:  2024\n",
      "Enter the month (1-12):  1\n"
     ]
    },
    {
     "name": "stdout",
     "output_type": "stream",
     "text": [
      "2024 is a leap year.\n",
      "The month 1 in 2024 has 31 days.\n"
     ]
    }
   ],
   "source": [
    "def is_leap_year(year):\n",
    "    if (year % 4 == 0 and year % 100 != 0) or (year % 400 == 0):\n",
    "        return True\n",
    "    else:\n",
    "        return False\n",
    "\n",
    "def days_in_month(year, month):\n",
    "    if month in (1, 3, 5, 7, 8, 10, 12):\n",
    "        return 31\n",
    "    elif month in (4, 6, 9, 11):\n",
    "        return 30\n",
    "    elif month == 2:\n",
    "        if is_leap_year(year):\n",
    "            return 29\n",
    "        else:\n",
    "            return 28\n",
    "    else:\n",
    "        return -1  # Invalid month input\n",
    "\n",
    "# Input year and month from the user\n",
    "user_year = int(input(\"Enter the year: \"))\n",
    "user_month = int(input(\"Enter the month (1-12): \"))\n",
    "\n",
    "# Check the type of year and days in the month\n",
    "if is_leap_year(user_year):\n",
    "    print(f\"{user_year} is a leap year.\")\n",
    "else:\n",
    "    print(f\"{user_year} is a common year.\")\n",
    "\n",
    "days = days_in_month(user_year, user_month)\n",
    "if days != -1:\n",
    "    print(f\"The month {user_month} in {user_year} has {days} days.\")\n",
    "else:\n",
    "    print(\"Invalid month input.\")\n"
   ]
  },
  {
   "cell_type": "markdown",
   "id": "8ef4511b-0f5d-4f30-82a1-f97d205fbcf0",
   "metadata": {},
   "source": [
    "1. Write a Python program that checks if a given number is positive, negative, or zero."
   ]
  },
  {
   "cell_type": "code",
   "execution_count": 18,
   "id": "edc9959d-fa50-468d-a692-3966fa4bd3d8",
   "metadata": {},
   "outputs": [
    {
     "name": "stdin",
     "output_type": "stream",
     "text": [
      "Enter a number:  3\n"
     ]
    },
    {
     "name": "stdout",
     "output_type": "stream",
     "text": [
      "The number 3.0 is Positive.\n"
     ]
    }
   ],
   "source": [
    "def check_number(num):\r\n",
    "    if num > 0:\r\n",
    "        return \"Positive\"\r\n",
    "    elif num < 0:\r\n",
    "        return \"Negative\"\r\n",
    "    else:\r\n",
    "        return \"Zero\"\r\n",
    "\r\n",
    "# Input a number from the user\r\n",
    "number = float(input(\"Enter a number: \"))\r\n",
    "\r\n",
    "# Check whether the number is positive, negative, or zero\r\n",
    "result = check_number(number)\r\n",
    "\r\n",
    "# Display the result\r\n",
    "print(f\"The number {number} is {result}.\")\r\n"
   ]
  },
  {
   "cell_type": "markdown",
   "id": "e5838fd9-6f7d-45ea-9b7b-c30144787627",
   "metadata": {},
   "source": [
    "2. Create a program to determine if a person is eligible to vote based on their age"
   ]
  },
  {
   "cell_type": "code",
   "execution_count": 19,
   "id": "d96c04b3-fa26-46d0-b954-8facf01334e9",
   "metadata": {},
   "outputs": [
    {
     "name": "stdin",
     "output_type": "stream",
     "text": [
      "Enter your age:  24\n"
     ]
    },
    {
     "name": "stdout",
     "output_type": "stream",
     "text": [
      "You are eligible to vote!\n"
     ]
    }
   ],
   "source": [
    "def check_voting_eligibility(age):\n",
    "    if age >= 18:\n",
    "        return \"You are eligible to vote!\"\n",
    "    else:\n",
    "        return \"You are not eligible to vote yet.\"\n",
    "\n",
    "# Input age from the user\n",
    "age = int(input(\"Enter your age: \"))\n",
    "\n",
    "# Check voting eligibility based on age\n",
    "result = check_voting_eligibility(age)\n",
    "\n",
    "# Display the result\n",
    "print(result)\n"
   ]
  },
  {
   "cell_type": "markdown",
   "id": "00c53661-6e5f-4ee9-a18f-ac64a9bd675c",
   "metadata": {},
   "source": [
    "3. Write a program to find the maximum of two given numbers using conditional statements."
   ]
  },
  {
   "cell_type": "code",
   "execution_count": 20,
   "id": "842c2871-9f05-42d3-832a-645cb99edec4",
   "metadata": {},
   "outputs": [
    {
     "name": "stdin",
     "output_type": "stream",
     "text": [
      "Enter the first number:  20\n",
      "Enter the second number:  320\n"
     ]
    },
    {
     "name": "stdout",
     "output_type": "stream",
     "text": [
      "The maximum of 20.0 and 320.0 is: 320.0\n"
     ]
    }
   ],
   "source": [
    "def find_maximum(num1, num2):\n",
    "    if num1 > num2:\n",
    "        return num1\n",
    "    else:\n",
    "        return num2\n",
    "\n",
    "# Input two numbers from the user\n",
    "number1 = float(input(\"Enter the first number: \"))\n",
    "number2 = float(input(\"Enter the second number: \"))\n",
    "\n",
    "# Find the maximum of the two numbers\n",
    "maximum = find_maximum(number1, number2)\n",
    "\n",
    "# Display the maximum number\n",
    "print(f\"The maximum of {number1} and {number2} is: {maximum}\")\n"
   ]
  },
  {
   "cell_type": "markdown",
   "id": "3f803f41-239c-4cc6-92cb-be1c8773270b",
   "metadata": {},
   "source": [
    "4. Develop a program that calculates the grade of a student based on their exam score."
   ]
  },
  {
   "cell_type": "code",
   "execution_count": 21,
   "id": "5f33fbfa-8538-489a-aab0-5439381e755f",
   "metadata": {},
   "outputs": [
    {
     "name": "stdin",
     "output_type": "stream",
     "text": [
      "Enter the student's exam score:  90\n"
     ]
    },
    {
     "name": "stdout",
     "output_type": "stream",
     "text": [
      "The student's grade is: A\n"
     ]
    }
   ],
   "source": [
    "def calculate_grade(score):\n",
    "    if score >= 90:\n",
    "        grade = 'A'\n",
    "    elif score >= 80:\n",
    "        grade = 'B'\n",
    "    elif score >= 70:\n",
    "        grade = 'C'\n",
    "    elif score >= 60:\n",
    "        grade = 'D'\n",
    "    else:\n",
    "        grade = 'F'\n",
    "    return grade\n",
    "\n",
    "# Input exam score from the user\n",
    "exam_score = float(input(\"Enter the student's exam score: \"))\n",
    "\n",
    "# Calculate and display the grade\n",
    "result = calculate_grade(exam_score)\n",
    "print(f\"The student's grade is: {result}\")\n"
   ]
  },
  {
   "cell_type": "markdown",
   "id": "b6fa203c-8ef5-4628-a2f7-3bad0a7689eb",
   "metadata": {},
   "source": [
    "5. Create a program that checks if a year is a leap year or not."
   ]
  },
  {
   "cell_type": "code",
   "execution_count": 22,
   "id": "e3a20598-8660-4bb1-8669-66b0b80bd31d",
   "metadata": {},
   "outputs": [
    {
     "name": "stdin",
     "output_type": "stream",
     "text": [
      "Enter a year:  2024\n"
     ]
    },
    {
     "name": "stdout",
     "output_type": "stream",
     "text": [
      "2024 is a leap year.\n"
     ]
    }
   ],
   "source": [
    "def is_leap_year(year):\n",
    "    if (year % 4 == 0 and year % 100 != 0) or (year % 400 == 0):\n",
    "        return True\n",
    "    else:\n",
    "        return False\n",
    "\n",
    "# Input a year from the user\n",
    "input_year = int(input(\"Enter a year: \"))\n",
    "\n",
    "# Check if it's a leap year\n",
    "if is_leap_year(input_year):\n",
    "    print(f\"{input_year} is a leap year.\")\n",
    "else:\n",
    "    print(f\"{input_year} is not a leap year.\")\n"
   ]
  },
  {
   "cell_type": "markdown",
   "id": "79286dc2-6f90-4581-b836-3cd3b790ce2c",
   "metadata": {},
   "source": [
    "6. Write a program to classify a triangle based on its sides' lengths."
   ]
  },
  {
   "cell_type": "code",
   "execution_count": 24,
   "id": "da1f64b9-68be-484e-b49e-de1b9bf89419",
   "metadata": {},
   "outputs": [
    {
     "name": "stdin",
     "output_type": "stream",
     "text": [
      "Enter the length of side a:  20\n",
      "Enter the length of side b:  20\n",
      "Enter the length of side c:  30\n"
     ]
    },
    {
     "name": "stdout",
     "output_type": "stream",
     "text": [
      "The triangle with side lengths 20.0, 20.0, 30.0 is a Isosceles Triangle.\n"
     ]
    }
   ],
   "source": [
    "def classify_triangle(side1, side2, side3):\n",
    "    if side1 == side2 == side3:\n",
    "        return \"Equilateral Triangle\"\n",
    "    elif side1 == side2 or side1 == side3 or side2 == side3:\n",
    "        return \"Isosceles Triangle\"\n",
    "    else:\n",
    "        return \"Scalene Triangle\"\n",
    "\n",
    "# Input side lengths from the user\n",
    "side_a = float(input(\"Enter the length of side a: \"))\n",
    "side_b = float(input(\"Enter the length of side b: \"))\n",
    "side_c = float(input(\"Enter the length of side c: \"))\n",
    "\n",
    "# Classify the triangle based on side lengths\n",
    "triangle_type = classify_triangle(side_a, side_b, side_c)\n",
    "\n",
    "# Display the classification\n",
    "print(f\"The triangle with side lengths {side_a}, {side_b}, {side_c} is a {triangle_type}.\")\n"
   ]
  },
  {
   "cell_type": "markdown",
   "id": "e376b256-2c74-4f67-b532-85061b2e6c8b",
   "metadata": {},
   "source": [
    "7. Build a program that determines the largest of three given numbers."
   ]
  },
  {
   "cell_type": "code",
   "execution_count": 26,
   "id": "fbb599b1-61e4-4efa-9ebc-207fcee05f3f",
   "metadata": {},
   "outputs": [
    {
     "name": "stdin",
     "output_type": "stream",
     "text": [
      "Enter the first number:  30\n",
      "Enter the second number:  20\n",
      "Enter the third number:  060\n"
     ]
    },
    {
     "name": "stdout",
     "output_type": "stream",
     "text": [
      "The largest of 30.0, 20.0, and 60.0 is: 60.0\n"
     ]
    }
   ],
   "source": [
    "def find_largest(num1, num2, num3):\r\n",
    "    largest = num1\r\n",
    "    if num2 > largest:\r\n",
    "        largest = num2\r\n",
    "    if num3 > largest:\r\n",
    "        largest = num3\r\n",
    "    return largest\r\n",
    "\r\n",
    "# Input three numbers from the user\r\n",
    "number1 = float(input(\"Enter the first number: \"))\r\n",
    "number2 = float(input(\"Enter the second number: \"))\r\n",
    "number3 = float(input(\"Enter the third number: \"))\r\n",
    "\r\n",
    "# Find the largest among the three numbers\r\n",
    "maximum = find_largest(number1, number2, number3)\r\n",
    "\r\n",
    "# Display the largest number\r\n",
    "print(f\"The largest of {number1}, {number2}, and {number3} is: {maximum}\")\r\n"
   ]
  },
  {
   "cell_type": "markdown",
   "id": "74b7f03b-0f7b-4aea-b45e-a03928d46c26",
   "metadata": {},
   "source": [
    "8. Develop a program that checks whether a character is a vowel or a consonant."
   ]
  },
  {
   "cell_type": "code",
   "execution_count": 27,
   "id": "836b277d-4616-44fb-87cc-2b1119a433cb",
   "metadata": {},
   "outputs": [
    {
     "name": "stdin",
     "output_type": "stream",
     "text": [
      "Enter a character:  S\n"
     ]
    },
    {
     "name": "stdout",
     "output_type": "stream",
     "text": [
      "The character 'S' is a Consonant.\n"
     ]
    }
   ],
   "source": [
    "def check_vowel_or_consonant(char):\n",
    "    vowels = \"aeiouAEIOU\"\n",
    "\n",
    "    if char.isalpha() and len(char) == 1:\n",
    "        if char in vowels:\n",
    "            return \"Vowel\"\n",
    "        else:\n",
    "            return \"Consonant\"\n",
    "    else:\n",
    "        return \"Not a valid alphabet character\"\n",
    "\n",
    "# Input a character from the user\n",
    "character = input(\"Enter a character: \")\n",
    "\n",
    "# Check if it's a vowel or a consonant\n",
    "result = check_vowel_or_consonant(character)\n",
    "\n",
    "# Display the result\n",
    "print(f\"The character '{character}' is a {result}.\")\n"
   ]
  },
  {
   "cell_type": "markdown",
   "id": "6dec2ee6-c4e0-4871-ad62-57be0fa0203f",
   "metadata": {},
   "source": [
    "9. Create a program to calculate the total cost of a shopping cart based on discounts."
   ]
  },
  {
   "cell_type": "code",
   "execution_count": 29,
   "id": "2ece9e9d-a142-4c9a-b507-003033bdc951",
   "metadata": {},
   "outputs": [
    {
     "name": "stdin",
     "output_type": "stream",
     "text": [
      "Enter the total value of your shopping cart: $ 600\n"
     ]
    },
    {
     "name": "stdout",
     "output_type": "stream",
     "text": [
      "The total cost of your shopping cart after discounts is: $540.00\n"
     ]
    }
   ],
   "source": [
    "def calculate_total_cost(cart_value):\n",
    "    discount_rate = 0\n",
    "\n",
    "    if cart_value >= 100:\n",
    "        discount_rate = 0.1  # 10% discount for purchases of $100 or more\n",
    "\n",
    "    discount_amount = cart_value * discount_rate\n",
    "    total_cost = cart_value - discount_amount\n",
    "\n",
    "    return total_cost\n",
    "\n",
    "# Input total cart value from the user\n",
    "cart_value = float(input(\"Enter the total value of your shopping cart: $\"))\n",
    "\n",
    "# Calculate the total cost after applying discounts\n",
    "final_cost = calculate_total_cost(cart_value)\n",
    "\n",
    "# Display the total cost after discounts\n",
    "print(f\"The total cost of your shopping cart after discounts is: ${final_cost:.2f}\")\n"
   ]
  },
  {
   "cell_type": "markdown",
   "id": "da61058e-57b5-4863-a7f4-d1f5acf49a83",
   "metadata": {},
   "source": [
    "10. Write a program that checks if a given number is even or odd."
   ]
  },
  {
   "cell_type": "code",
   "execution_count": 30,
   "id": "3997f211-9a5c-47ca-9058-05d1b9753de4",
   "metadata": {},
   "outputs": [
    {
     "name": "stdin",
     "output_type": "stream",
     "text": [
      "Enter a number:  505\n"
     ]
    },
    {
     "name": "stdout",
     "output_type": "stream",
     "text": [
      "The number 505 is Odd.\n"
     ]
    }
   ],
   "source": [
    "def check_even_or_odd(number):\n",
    "    if number % 2 == 0:\n",
    "        return \"Even\"\n",
    "    else:\n",
    "        return \"Odd\"\n",
    "\n",
    "# Input a number from the user\n",
    "user_number = int(input(\"Enter a number: \"))\n",
    "\n",
    "# Check if it's even or odd\n",
    "result = check_even_or_odd(user_number)\n",
    "\n",
    "# Display the result\n",
    "print(f\"The number {user_number} is {result}.\")\n"
   ]
  },
  {
   "cell_type": "markdown",
   "id": "9feb1201-5d65-4b16-b7d3-bcf22c84ad7b",
   "metadata": {},
   "source": [
    "11. Write a program that calculates the roots of a quadratic equation "
   ]
  },
  {
   "cell_type": "code",
   "execution_count": 31,
   "id": "ad2663e8-4ec0-4e2f-bb23-eea910b94782",
   "metadata": {},
   "outputs": [
    {
     "name": "stdin",
     "output_type": "stream",
     "text": [
      "Enter coefficient a:  30\n",
      "Enter coefficient b:  30\n",
      "Enter coefficient c:  30\n"
     ]
    },
    {
     "name": "stdout",
     "output_type": "stream",
     "text": [
      "The roots of the quadratic equation are: (-0.5-0.8660254037844387j) and (-0.5+0.8660254037844387j)\n"
     ]
    }
   ],
   "source": [
    "import cmath\n",
    "\n",
    "def calculate_roots(a, b, c):\n",
    "    discriminant = (b**2) - (4 * a * c)\n",
    "    root1 = (-b - cmath.sqrt(discriminant)) / (2 * a)\n",
    "    root2 = (-b + cmath.sqrt(discriminant)) / (2 * a)\n",
    "    return root1, root2\n",
    "\n",
    "# Input coefficients of the quadratic equation\n",
    "a = float(input(\"Enter coefficient a: \"))\n",
    "b = float(input(\"Enter coefficient b: \"))\n",
    "c = float(input(\"Enter coefficient c: \"))\n",
    "\n",
    "# Calculate roots\n",
    "root1, root2 = calculate_roots(a, b, c)\n",
    "\n",
    "# Display the roots\n",
    "print(f\"The roots of the quadratic equation are: {root1} and {root2}\")\n"
   ]
  },
  {
   "cell_type": "markdown",
   "id": "b2bccc99-04ec-46b8-a875-d8544f48a331",
   "metadata": {},
   "source": [
    "12. Create a program that determines the day of the week based on the day number (1-7)."
   ]
  },
  {
   "cell_type": "code",
   "execution_count": 32,
   "id": "3e9f3e60-4ce0-47b4-bec3-d793c02e79cd",
   "metadata": {},
   "outputs": [
    {
     "name": "stdin",
     "output_type": "stream",
     "text": [
      "Enter the day number (1-7):  5\n"
     ]
    },
    {
     "name": "stdout",
     "output_type": "stream",
     "text": [
      "The day corresponding to number 5 is: Friday\n"
     ]
    }
   ],
   "source": [
    "def get_day_of_week(day_number):\n",
    "    days_of_week = {\n",
    "        1: \"Monday\",\n",
    "        2: \"Tuesday\",\n",
    "        3: \"Wednesday\",\n",
    "        4: \"Thursday\",\n",
    "        5: \"Friday\",\n",
    "        6: \"Saturday\",\n",
    "        7: \"Sunday\"\n",
    "    }\n",
    "\n",
    "    if day_number in days_of_week:\n",
    "        return days_of_week[day_number]\n",
    "    else:\n",
    "        return \"Invalid day number\"\n",
    "\n",
    "# Input day number from the user\n",
    "day_number = int(input(\"Enter the day number (1-7): \"))\n",
    "\n",
    "# Get the day of the week\n",
    "result = get_day_of_week(day_number)\n",
    "\n",
    "# Display the day of the week\n",
    "print(f\"The day corresponding to number {day_number} is: {result}\")\n"
   ]
  },
  {
   "cell_type": "markdown",
   "id": "4d0bd75a-8580-4622-a7ea-3927009905d2",
   "metadata": {},
   "source": [
    "13. Develop a program that calculates the factorial of a given number using recursion."
   ]
  },
  {
   "cell_type": "code",
   "execution_count": 33,
   "id": "9dbf541c-e743-47e8-b33b-c3a1d023617b",
   "metadata": {},
   "outputs": [
    {
     "name": "stdin",
     "output_type": "stream",
     "text": [
      "Enter a number to find its factorial:  20\n"
     ]
    },
    {
     "name": "stdout",
     "output_type": "stream",
     "text": [
      "The factorial of 20 is: 2432902008176640000\n"
     ]
    }
   ],
   "source": [
    "def factorial(n):\n",
    "    if n == 0 or n == 1:\n",
    "        return 1\n",
    "    else:\n",
    "        return n * factorial(n - 1)\n",
    "\n",
    "# Input a number from the user\n",
    "number = int(input(\"Enter a number to find its factorial: \"))\n",
    "\n",
    "# Calculate the factorial using recursion\n",
    "result = factorial(number)\n",
    "\n",
    "# Display the factorial\n",
    "print(f\"The factorial of {number} is: {result}\")\n"
   ]
  },
  {
   "cell_type": "markdown",
   "id": "e4ff6de6-147d-4fad-a703-5a1b34ee1646",
   "metadata": {},
   "source": [
    "14. Write a program to find the largest among three numbers without using the `max()` function."
   ]
  },
  {
   "cell_type": "code",
   "execution_count": 34,
   "id": "83f42d0d-0d26-43b3-a5a4-676ec3872203",
   "metadata": {},
   "outputs": [
    {
     "name": "stdin",
     "output_type": "stream",
     "text": [
      "Enter the first number:  50\n",
      "Enter the second number:  60\n",
      "Enter the third number:  80\n"
     ]
    },
    {
     "name": "stdout",
     "output_type": "stream",
     "text": [
      "The largest of 50.0, 60.0, and 80.0 is: 80.0\n"
     ]
    }
   ],
   "source": [
    "def find_largest(num1, num2, num3):\n",
    "    if num1 >= num2 and num1 >= num3:\n",
    "        return num1\n",
    "    elif num2 >= num1 and num2 >= num3:\n",
    "        return num2\n",
    "    else:\n",
    "        return num3\n",
    "\n",
    "# Input three numbers from the user\n",
    "number1 = float(input(\"Enter the first number: \"))\n",
    "number2 = float(input(\"Enter the second number: \"))\n",
    "number3 = float(input(\"Enter the third number: \"))\n",
    "\n",
    "# Find the largest among the three numbers\n",
    "maximum = find_largest(number1, number2, number3)\n",
    "\n",
    "# Display the largest number\n",
    "print(f\"The largest of {number1}, {number2}, and {number3} is: {maximum}\")\n"
   ]
  },
  {
   "cell_type": "markdown",
   "id": "75b91c36-ae56-4176-a4e3-a2543e64f2e2",
   "metadata": {},
   "source": [
    "15. Create a program that simulates a basic ATM transaction menu."
   ]
  },
  {
   "cell_type": "code",
   "execution_count": 37,
   "id": "a0bc91db-107e-4e1b-b6bd-240bbc212747",
   "metadata": {},
   "outputs": [
    {
     "name": "stdout",
     "output_type": "stream",
     "text": [
      "Welcome to the ATM!\n",
      "1. Check Balance\n",
      "2. Withdraw Money\n",
      "3. Deposit Money\n",
      "4. Quit\n"
     ]
    },
    {
     "name": "stdin",
     "output_type": "stream",
     "text": [
      "Enter your choice (1-4):  4\n"
     ]
    },
    {
     "name": "stdout",
     "output_type": "stream",
     "text": [
      "Thank you for using the ATM. Have a nice day!\n"
     ]
    }
   ],
   "source": [
    "def display_menu():\n",
    "    print(\"Welcome to the ATM!\")\n",
    "    print(\"1. Check Balance\")\n",
    "    print(\"2. Withdraw Money\")\n",
    "    print(\"3. Deposit Money\")\n",
    "    print(\"4. Quit\")\n",
    "\n",
    "def check_balance(balance):\n",
    "    print(f\"Your current balance is: ${balance}\")\n",
    "\n",
    "def withdraw_money(balance, amount):\n",
    "    if amount > balance:\n",
    "        print(\"Insufficient funds!\")\n",
    "    else:\n",
    "        balance -= amount\n",
    "        print(f\"Withdrawn ${amount}. Your remaining balance is: ${balance}\")\n",
    "    return balance\n",
    "\n",
    "def deposit_money(balance, amount):\n",
    "    balance += amount\n",
    "    print(f\"Deposited ${amount}. Your new balance is: ${balance}\")\n",
    "    return balance\n",
    "\n",
    "# Initial balance\n",
    "account_balance = 1000\n",
    "\n",
    "while True:\n",
    "    display_menu()\n",
    "    choice = input(\"Enter your choice (1-4): \")\n",
    "\n",
    "    if choice == '1':\n",
    "        check_balance(account_balance)\n",
    "    elif choice == '2':\n",
    "        withdraw_amount = float(input(\"Enter the amount to withdraw: $\"))\n",
    "        account_balance = withdraw_money(account_balance, withdraw_amount)\n",
    "    elif choice == '3':\n",
    "        deposit_amount = float(input(\"Enter the amount to deposit: $\"))\n",
    "        account_balance = deposit_money(account_balance, deposit_amount)\n",
    "    elif choice == '4':\n",
    "        print(\"Thank you for using the ATM. Have a nice day!\")\n",
    "        break\n",
    "    else:\n",
    "        print(\"Invalid choice. Please enter a valid option (1-4).\")\n"
   ]
  },
  {
   "cell_type": "markdown",
   "id": "b625080f-94b3-4f12-8411-16f78c6cb620",
   "metadata": {},
   "source": [
    "16. Build a program that checks if a given string is a palindrome or not."
   ]
  },
  {
   "cell_type": "code",
   "execution_count": 39,
   "id": "d695fe36-efda-48bd-b81a-98a938762926",
   "metadata": {},
   "outputs": [
    {
     "name": "stdin",
     "output_type": "stream",
     "text": [
      "Enter a string:  SDFSDFDFSDFWERFGVFSDFSDFdvdvdsf\n"
     ]
    },
    {
     "name": "stdout",
     "output_type": "stream",
     "text": [
      "The string 'SDFSDFDFSDFWERFGVFSDFSDFdvdvdsf' is not a palindrome.\n"
     ]
    }
   ],
   "source": [
    "def is_palindrome(input_string):\n",
    "    # Remove spaces and convert to lowercase for case-insensitive comparison\n",
    "    processed_string = input_string.replace(\" \", \"\").lower()\n",
    "    \n",
    "    # Check if the string matches its reverse\n",
    "    return processed_string == processed_string[::-1]\n",
    "\n",
    "# Input a string from the user\n",
    "user_string = input(\"Enter a string: \")\n",
    "\n",
    "# Check if it's a palindrome\n",
    "if is_palindrome(user_string):\n",
    "    print(f\"The string '{user_string}' is a palindrome.\")\n",
    "else:\n",
    "    print(f\"The string '{user_string}' is not a palindrome.\")\n"
   ]
  },
  {
   "cell_type": "markdown",
   "id": "5d2090c9-7e64-460a-a9d4-310c6ad7c406",
   "metadata": {},
   "source": [
    "17. Write a program that calculates the average of a list of numbers, excluding the smallest and largest values"
   ]
  },
  {
   "cell_type": "code",
   "execution_count": 40,
   "id": "9bd6e97e-eb22-4929-a859-dc34477a5eac",
   "metadata": {},
   "outputs": [
    {
     "name": "stdin",
     "output_type": "stream",
     "text": [
      "Enter a list of numbers separated by space:  10 20 30 1 50 60 41 22 10\n"
     ]
    },
    {
     "name": "stdout",
     "output_type": "stream",
     "text": [
      "The average of the list (excluding the smallest and largest values) is: 26.142857142857142\n"
     ]
    }
   ],
   "source": [
    "def calculate_average(numbers):\n",
    "    if len(numbers) <= 2:\n",
    "        return \"Not enough numbers to compute the average\"\n",
    "\n",
    "    numbers.sort()  # Sort the list\n",
    "    trimmed_numbers = numbers[1:-1]  # Exclude the smallest and largest values\n",
    "    average = sum(trimmed_numbers) / len(trimmed_numbers)\n",
    "    return average\n",
    "\n",
    "# Input a list of numbers from the user\n",
    "number_list = [float(x) for x in input(\"Enter a list of numbers separated by space: \").split()]\n",
    "\n",
    "# Calculate the average excluding the smallest and largest values\n",
    "result = calculate_average(number_list)\n",
    "\n",
    "# Display the average\n",
    "if isinstance(result, str):\n",
    "    print(result)\n",
    "else:\n",
    "    print(f\"The average of the list (excluding the smallest and largest values) is: {result}\")\n"
   ]
  },
  {
   "cell_type": "markdown",
   "id": "22228db0-d310-43a5-90bb-8a0b1b9bb495",
   "metadata": {},
   "source": [
    "18. Develop a program that converts a given temperature from Celsius to Fahrenheit."
   ]
  },
  {
   "cell_type": "code",
   "execution_count": 41,
   "id": "b948e49b-63fc-4590-b204-6675cef80205",
   "metadata": {},
   "outputs": [
    {
     "name": "stdin",
     "output_type": "stream",
     "text": [
      "Enter temperature in Celsius:  50\n"
     ]
    },
    {
     "name": "stdout",
     "output_type": "stream",
     "text": [
      "The temperature 50.0°C is equal to 122.0°F.\n"
     ]
    }
   ],
   "source": [
    "def celsius_to_fahrenheit(celsius):\n",
    "    fahrenheit = (celsius * 9/5) + 32\n",
    "    return fahrenheit\n",
    "\n",
    "# Input temperature in Celsius from the user\n",
    "celsius_temp = float(input(\"Enter temperature in Celsius: \"))\n",
    "\n",
    "# Convert Celsius to Fahrenheit\n",
    "fahrenheit_temp = celsius_to_fahrenheit(celsius_temp)\n",
    "\n",
    "# Display the converted temperature\n",
    "print(f\"The temperature {celsius_temp}°C is equal to {fahrenheit_temp}°F.\")\n"
   ]
  },
  {
   "cell_type": "markdown",
   "id": "ed1d2bd7-3ccf-4da7-b063-a3a7b7fe455b",
   "metadata": {},
   "source": [
    "19. Create a program that simulates a basic calculator for addition, subtraction, multiplication, and division."
   ]
  },
  {
   "cell_type": "code",
   "execution_count": 42,
   "id": "9a08f770-7728-4707-b5ec-4f44b37e43c7",
   "metadata": {},
   "outputs": [
    {
     "name": "stdout",
     "output_type": "stream",
     "text": [
      "Select operation:\n",
      "1. Addition\n",
      "2. Subtraction\n",
      "3. Multiplication\n",
      "4. Division\n"
     ]
    },
    {
     "name": "stdin",
     "output_type": "stream",
     "text": [
      "Enter choice (1-4):  1\n",
      "Enter first number:  30\n",
      "Enter second number:  30\n"
     ]
    },
    {
     "name": "stdout",
     "output_type": "stream",
     "text": [
      "30.0 + 30.0 = 60.0\n"
     ]
    }
   ],
   "source": [
    "def add(x, y):\n",
    "    return x + y\n",
    "\n",
    "def subtract(x, y):\n",
    "    return x - y\n",
    "\n",
    "def multiply(x, y):\n",
    "    return x * y\n",
    "\n",
    "def divide(x, y):\n",
    "    if y == 0:\n",
    "        return \"Error! Division by zero is not allowed.\"\n",
    "    else:\n",
    "        return x / y\n",
    "\n",
    "# Display the menu options\n",
    "print(\"Select operation:\")\n",
    "print(\"1. Addition\")\n",
    "print(\"2. Subtraction\")\n",
    "print(\"3. Multiplication\")\n",
    "print(\"4. Division\")\n",
    "\n",
    "# Input choice and numbers from the user\n",
    "choice = input(\"Enter choice (1-4): \")\n",
    "\n",
    "if choice in ('1', '2', '3', '4'):\n",
    "    num1 = float(input(\"Enter first number: \"))\n",
    "    num2 = float(input(\"Enter second number: \"))\n",
    "\n",
    "    if choice == '1':\n",
    "        print(f\"{num1} + {num2} =\", add(num1, num2))\n",
    "    elif choice == '2':\n",
    "        print(f\"{num1} - {num2} =\", subtract(num1, num2))\n",
    "    elif choice == '3':\n",
    "        print(f\"{num1} * {num2} =\", multiply(num1, num2))\n",
    "    else:\n",
    "        result = divide(num1, num2)\n",
    "        if isinstance(result, str):\n",
    "            print(result)\n",
    "        else:\n",
    "            print(f\"{num1} / {num2} =\", result)\n",
    "else:\n",
    "    print(\"Invalid input\")\n"
   ]
  },
  {
   "cell_type": "markdown",
   "id": "70baf48b-f69a-404a-b6c2-e24ed38f1d36",
   "metadata": {},
   "source": [
    "20. Write a program that determines the roots of a cubic equation using the Cardano formula."
   ]
  },
  {
   "cell_type": "code",
   "execution_count": 49,
   "id": "a95ac22b-a3ed-463d-af38-606ba7cee768",
   "metadata": {},
   "outputs": [
    {
     "name": "stdin",
     "output_type": "stream",
     "text": [
      "Enter coefficient a:  20\n",
      "Enter coefficient b:  30\n",
      "Enter coefficient c:  30\n",
      "Enter coefficient d:  30\n"
     ]
    },
    {
     "name": "stdout",
     "output_type": "stream",
     "text": [
      "Roots of the cubic equation:\n"
     ]
    }
   ],
   "source": [
    "import cmath\n",
    "\n",
    "def cubic_roots(a, b, c, d):\n",
    "    # Calculate the discriminant and intermediate values\n",
    "    p = (3 * a * c - b ** 2) / (3 * a ** 2)\n",
    "    q = (2 * b ** 3 - 9 * a * b * c + 27 * a ** 2 * d) / (27 * a ** 3)\n",
    "    discriminant = q ** 2 / 4 + p ** 3 / 27\n",
    "\n",
    "    if discriminant > 0:\n",
    "        # Case 1: Three distinct real roots\n",
    "        u = (-q / 2 + cmath.sqrt(discriminant)) ** (1 / 3)\n",
    "        v = (-q / 2 - cmath.sqrt(discriminant)) ** (1 / 3)\n",
    "        root1 = u + v - b / (3 * a)\n",
    "        return root1\n",
    "    elif discriminant == 0:\n",
    "        # Case 2: At least two real roots are equal\n",
    "        root1 = -2 * (q / 2) ** (1 / 3) - b / (3 * a)\n",
    "        root2 = (q / 2) ** (1 / 3) - b / (3 * a)\n",
    "        return root1, root2\n",
    "    else:\n",
    "        # Case 3: One real root and two complex conjugate roots\n",
    "        r = cmath.sqrt((-4 * (p ** 3)) / 27)\n",
    "        theta = cmath.acos(-q / (2 * r))\n",
    "        root1 = 2 * cmath.sqrt(-p / 3) * cmath.cos(theta / 3) - b / (3 * a)\n",
    "        root2 = 2 * cmath.sqrt(-p / 3) * cmath.cos((theta + 2 * cmath.pi) / 3) - b / (3 * a)\n",
    "        root3 = 2 * cmath.sqrt(-p / 3) * cmath.cos((theta + 4 * cmath.pi) / 3) - b / (3 * a)\n",
    "        return root1, root2, root3\n",
    "\n",
    "# Input coefficients of the cubic equation\n",
    "a = float(input(\"Enter coefficient a: \"))\n",
    "b = float(input(\"Enter coefficient b: \"))\n",
    "c = float(input(\"Enter coefficient c: \"))\n",
    "d = float(input(\"Enter coefficient d: \"))\n",
    "\n",
    "# Calculate the roots of the cubic equation\n",
    "roots = cubic_roots(a, b, c, d)\n",
    "\n",
    "# Display the roots\n",
    "print(\"Roots of the cubic equation:\")\n",
    "# for i, root in enumerate(roots):\n",
    "#     print(f\"Root {i + 1}: {root}\")\n"
   ]
  },
  {
   "cell_type": "markdown",
   "id": "9e804aed-28b2-4f54-91c2-611d19ed0790",
   "metadata": {},
   "source": [
    "21. Create a program that calculates the income tax based on the user's income and tax brackets."
   ]
  },
  {
   "cell_type": "code",
   "execution_count": 51,
   "id": "573e696e-a447-4bb5-8e62-6d24b519fe9a",
   "metadata": {},
   "outputs": [
    {
     "name": "stdin",
     "output_type": "stream",
     "text": [
      "Enter your income: $ 10020\n"
     ]
    },
    {
     "name": "stdout",
     "output_type": "stream",
     "text": [
      "The income tax for an income of $10020.00 is: $1004.90\n"
     ]
    }
   ],
   "source": [
    "def calculate_tax(income):\n",
    "    tax = 0\n",
    "    if income <= 9875:\n",
    "        tax = income * 0.1\n",
    "    elif income <= 40125:\n",
    "        tax = 9875 * 0.1 + (income - 9875) * 0.12\n",
    "    elif income <= 85525:\n",
    "        tax = 9875 * 0.1 + (40125 - 9875) * 0.12 + (income - 40125) * 0.22\n",
    "    elif income <= 163300:\n",
    "        tax = 9875 * 0.1 + (40125 - 9875) * 0.12 + (85525 - 40125) * 0.22 + (income - 85525) * 0.24\n",
    "    # Add more tax brackets and calculations as needed...\n",
    "\n",
    "    return tax\n",
    "\n",
    "# Input income from the user\n",
    "user_income = float(input(\"Enter your income: $\"))\n",
    "\n",
    "# Calculate the income tax based on brackets\n",
    "income_tax = calculate_tax(user_income)\n",
    "\n",
    "# Display the calculated income tax\n",
    "print(f\"The income tax for an income of ${user_income:.2f} is: ${income_tax:.2f}\")\n"
   ]
  },
  {
   "cell_type": "markdown",
   "id": "0d9abc01-9ce9-455c-84a0-be75c79b64ff",
   "metadata": {},
   "source": [
    "22. Write a program that simulates a rock-paper-scissors game against the computer."
   ]
  },
  {
   "cell_type": "code",
   "execution_count": 1,
   "id": "08095c65-ace8-4381-9743-6a59015e06d0",
   "metadata": {},
   "outputs": [
    {
     "name": "stdout",
     "output_type": "stream",
     "text": [
      "Let's play Rock-Paper-Scissors!\n",
      "Enter your choice: rock, paper, or scissors\n"
     ]
    },
    {
     "name": "stdin",
     "output_type": "stream",
     "text": [
      "Your choice:  ROCK\n"
     ]
    },
    {
     "name": "stdout",
     "output_type": "stream",
     "text": [
      "You chose: rock\n",
      "Computer chose: paper\n",
      "Computer wins!\n"
     ]
    }
   ],
   "source": [
    "import random\n",
    "\n",
    "def get_computer_choice():\n",
    "    choices = ['rock', 'paper', 'scissors']\n",
    "    return random.choice(choices)\n",
    "\n",
    "def determine_winner(user_choice, computer_choice):\n",
    "    if user_choice == computer_choice:\n",
    "        return \"It's a tie!\"\n",
    "    elif (user_choice == 'rock' and computer_choice == 'scissors') or \\\n",
    "         (user_choice == 'paper' and computer_choice == 'rock') or \\\n",
    "         (user_choice == 'scissors' and computer_choice == 'paper'):\n",
    "        return \"You win!\"\n",
    "    else:\n",
    "        return \"Computer wins!\"\n",
    "\n",
    "# Display game instructions and get user input\n",
    "print(\"Let's play Rock-Paper-Scissors!\")\n",
    "print(\"Enter your choice: rock, paper, or scissors\")\n",
    "user_input = input(\"Your choice: \").lower()\n",
    "\n",
    "# Validate user input\n",
    "if user_input not in ['rock', 'paper', 'scissors']:\n",
    "    print(\"Invalid choice. Please enter rock, paper, or scissors.\")\n",
    "else:\n",
    "    # Get computer's choice\n",
    "    computer_input = get_computer_choice()\n",
    "\n",
    "    # Display user and computer choices\n",
    "    print(f\"You chose: {user_input}\")\n",
    "    print(f\"Computer chose: {computer_input}\")\n",
    "\n",
    "    # Determine the winner\n",
    "    result = determine_winner(user_input, computer_input)\n",
    "    print(result)\n"
   ]
  },
  {
   "cell_type": "markdown",
   "id": "373f2d57-18af-46d5-ba52-d2d7b8b09415",
   "metadata": {},
   "source": [
    "23. Develop a program that generates a random password based on user preferences (length, complexity)."
   ]
  },
  {
   "cell_type": "code",
   "execution_count": 2,
   "id": "9f1cb1d8-cb5b-4f84-8e7d-0d181bcd4d21",
   "metadata": {},
   "outputs": [
    {
     "name": "stdin",
     "output_type": "stream",
     "text": [
      "Enter the length of the password:  8\n",
      "Include digits (yes/no):  yes\n",
      "Include special characters (yes/no):  yes\n"
     ]
    },
    {
     "name": "stdout",
     "output_type": "stream",
     "text": [
      "Generated password: ]3\\<ZR[\"\n"
     ]
    }
   ],
   "source": [
    "import random\n",
    "import string\n",
    "\n",
    "def generate_password(length, include_digits=True, include_special_chars=True):\n",
    "    chars = string.ascii_letters\n",
    "    if include_digits:\n",
    "        chars += string.digits\n",
    "    if include_special_chars:\n",
    "        chars += string.punctuation\n",
    "\n",
    "    password = ''.join(random.choice(chars) for _ in range(length))\n",
    "    return password\n",
    "\n",
    "# Get user preferences for password generation\n",
    "length = int(input(\"Enter the length of the password: \"))\n",
    "include_digits = input(\"Include digits (yes/no): \").lower() == 'yes'\n",
    "include_special_chars = input(\"Include special characters (yes/no): \").lower() == 'yes'\n",
    "\n",
    "# Generate the password\n",
    "password = generate_password(length, include_digits, include_special_chars)\n",
    "\n",
    "# Display the generated password\n",
    "print(f\"Generated password: {password}\")\n"
   ]
  },
  {
   "cell_type": "markdown",
   "id": "92f3167c-c854-4395-ac07-cf5d4ab072b4",
   "metadata": {},
   "source": [
    "24. Create a program that implements a simple text-based adventure game with branching scenarios."
   ]
  },
  {
   "cell_type": "code",
   "execution_count": 4,
   "id": "7182f0ad-8ba9-49b9-a310-a2a90d95bde0",
   "metadata": {},
   "outputs": [
    {
     "name": "stdout",
     "output_type": "stream",
     "text": [
      "Welcome to the Adventure Game!\n",
      "You find yourself standing in front of two doors: Door 1 and Door 2.\n"
     ]
    },
    {
     "name": "stdin",
     "output_type": "stream",
     "text": [
      "Which door do you choose? (1 or 2):  2\n"
     ]
    },
    {
     "name": "stdout",
     "output_type": "stream",
     "text": [
      "\n",
      "You chose Door 2 and entered a dark cave.\n",
      "You encounter a dragon!\n"
     ]
    },
    {
     "name": "stdin",
     "output_type": "stream",
     "text": [
      "What do you do? (fight or run):  run\n"
     ]
    },
    {
     "name": "stdout",
     "output_type": "stream",
     "text": [
      "You wisely ran away from the dragon. You survived!\n"
     ]
    }
   ],
   "source": [
    "def start_game():\n",
    "    print(\"Welcome to the Adventure Game!\")\n",
    "    print(\"You find yourself standing in front of two doors: Door 1 and Door 2.\")\n",
    "    choice = input(\"Which door do you choose? (1 or 2): \")\n",
    "\n",
    "    if choice == '1':\n",
    "        scenario_door1()\n",
    "    elif choice == '2':\n",
    "        scenario_door2()\n",
    "    else:\n",
    "        print(\"Invalid choice. Please choose 1 or 2.\")\n",
    "        start_game()\n",
    "\n",
    "def scenario_door1():\n",
    "    print(\"\\nYou chose Door 1 and entered a room filled with treasure!\")\n",
    "    print(\"Congratulations, you win!\")\n",
    "\n",
    "def scenario_door2():\n",
    "    print(\"\\nYou chose Door 2 and entered a dark cave.\")\n",
    "    print(\"You encounter a dragon!\")\n",
    "    action = input(\"What do you do? (fight or run): \")\n",
    "\n",
    "    if action.lower() == 'fight':\n",
    "        print(\"You fought bravely but the dragon was too powerful. You lose!\")\n",
    "    elif action.lower() == 'run':\n",
    "        print(\"You wisely ran away from the dragon. You survived!\")\n",
    "    else:\n",
    "        print(\"Invalid choice. Please choose fight or run.\")\n",
    "        scenario_door2()\n",
    "\n",
    "# Start the game\n",
    "start_game()\n"
   ]
  },
  {
   "cell_type": "markdown",
   "id": "e9235d91-beab-4289-8afc-1a1a670ce711",
   "metadata": {},
   "source": [
    "25. Build a program that solves a linear equation  for x, considering different cases."
   ]
  },
  {
   "cell_type": "markdown",
   "id": "91cac8d5-4199-448a-af16-9c17f8af8667",
   "metadata": {},
   "source": [
    "### def solve_linear_equation(a, b):\n",
    "    if a == 0:\n",
    "        if b == 0:\n",
    "            return \"Infinite solutions (Identity Equation)\"\n",
    "        else:\n",
    "            return \"No solution (Contradictory Equation)\"\n",
    "    else:\n",
    "        x = -b / a\n",
    "        return x\n",
    "\n",
    "# Input coefficients of the linear equation ax + b = 0\n",
    "a_value = float(input(\"Enter coefficient a: \"))\n",
    "b_value = float(input(\"Enter coefficient b: \"))\n",
    "\n",
    "# Solve the linear equation for x\n",
    "solution = solve_linear_equation(a_value, b_value)\n",
    "\n",
    "# Display the solution\n",
    "print(f\"The solution for the equation {a_value}x + {b_value} = 0 is: {solution}\")\n"
   ]
  },
  {
   "cell_type": "markdown",
   "id": "5be0fd91-19eb-4478-9d77-d1b7cf91fa0d",
   "metadata": {},
   "source": [
    "26. Write a program that simulates a basic quiz game with multiple-choice questions and scoring."
   ]
  },
  {
   "cell_type": "code",
   "execution_count": 6,
   "id": "b41aa151-49a3-4a87-92ce-b21ba7102bdf",
   "metadata": {},
   "outputs": [
    {
     "name": "stdout",
     "output_type": "stream",
     "text": [
      "Welcome to the Quiz!\n"
     ]
    },
    {
     "name": "stdin",
     "output_type": "stream",
     "text": [
      "What is the capital of France?\n",
      "(a) Berlin\n",
      "(b) Madrid\n",
      "(c) Paris\n",
      " c\n",
      "Which planet is known as the 'Red Planet'?\n",
      "(a) Venus\n",
      "(b) Mars\n",
      "(c) Jupiter\n",
      " s\n",
      "Who painted the Mona Lisa?\n",
      "(a) Leonardo da Vinci\n",
      "(b) Michelangelo\n",
      "(c) Pablo Picasso\n",
      " s\n"
     ]
    },
    {
     "name": "stdout",
     "output_type": "stream",
     "text": [
      "You got 1 out of 3 questions correct.\n"
     ]
    }
   ],
   "source": [
    "class Question:\n",
    "    def __init__(self, prompt, answer):\n",
    "        self.prompt = prompt\n",
    "        self.answer = answer\n",
    "\n",
    "# Define the quiz questions and answers\n",
    "questions = [\n",
    "    Question(\"What is the capital of France?\\n(a) Berlin\\n(b) Madrid\\n(c) Paris\\n\", \"c\"),\n",
    "    Question(\"Which planet is known as the 'Red Planet'?\\n(a) Venus\\n(b) Mars\\n(c) Jupiter\\n\", \"b\"),\n",
    "    Question(\"Who painted the Mona Lisa?\\n(a) Leonardo da Vinci\\n(b) Michelangelo\\n(c) Pablo Picasso\\n\", \"a\")\n",
    "]\n",
    "\n",
    "def run_quiz(questions):\n",
    "    score = 0\n",
    "    for question in questions:\n",
    "        answer = input(question.prompt).lower()\n",
    "        if answer == question.answer:\n",
    "            score += 1\n",
    "    return score\n",
    "\n",
    "# Run the quiz\n",
    "print(\"Welcome to the Quiz!\")\n",
    "user_score = run_quiz(questions)\n",
    "\n",
    "# Display the final score\n",
    "total_questions = len(questions)\n",
    "print(f\"You got {user_score} out of {total_questions} questions correct.\")\n"
   ]
  },
  {
   "cell_type": "markdown",
   "id": "177c51a0-c6c8-4735-8cfa-3291d4043dd7",
   "metadata": {},
   "source": [
    "27. Develop a program that determines whether a given year is a prime number or not."
   ]
  },
  {
   "cell_type": "code",
   "execution_count": 7,
   "id": "e12ea370-174c-4c7e-b2a6-2c35801344b4",
   "metadata": {},
   "outputs": [
    {
     "name": "stdin",
     "output_type": "stream",
     "text": [
      "Enter a year:  2024\n"
     ]
    },
    {
     "name": "stdout",
     "output_type": "stream",
     "text": [
      "2024 is not a prime year.\n"
     ]
    }
   ],
   "source": [
    "def is_prime(year):\n",
    "    if year <= 1:\n",
    "        return False\n",
    "    for i in range(2, int(year ** 0.5) + 1):\n",
    "        if year % i == 0:\n",
    "            return False\n",
    "    return True\n",
    "\n",
    "# Input year from the user\n",
    "user_year = int(input(\"Enter a year: \"))\n",
    "\n",
    "# Check if the year is prime or not\n",
    "if is_prime(user_year):\n",
    "    print(f\"{user_year} is a prime year.\")\n",
    "else:\n",
    "    print(f\"{user_year} is not a prime year.\")\n"
   ]
  },
  {
   "cell_type": "markdown",
   "id": "f6c74a73-bb10-4cb3-bb88-a0cbca14e2ec",
   "metadata": {},
   "source": [
    "28. Create a program that sorts three numbers in ascending order using conditional statements.\n",
    "\n"
   ]
  },
  {
   "cell_type": "code",
   "execution_count": 8,
   "id": "9d50c261-8a7c-446d-bd8b-871789ab03d9",
   "metadata": {},
   "outputs": [
    {
     "name": "stdin",
     "output_type": "stream",
     "text": [
      "Enter the first number:  20\n",
      "Enter the second number:  50\n",
      "Enter the third number:  60\n"
     ]
    },
    {
     "name": "stdout",
     "output_type": "stream",
     "text": [
      "Numbers in ascending order: (20.0, 50.0, 60.0)\n"
     ]
    }
   ],
   "source": [
    "def sort_numbers(a, b, c):\n",
    "    if a <= b <= c:\n",
    "        return a, b, c\n",
    "    elif a <= c <= b:\n",
    "        return a, c, b\n",
    "    elif b <= a <= c:\n",
    "        return b, a, c\n",
    "    elif b <= c <= a:\n",
    "        return b, c, a\n",
    "    elif c <= a <= b:\n",
    "        return c, a, b\n",
    "    else:\n",
    "        return c, b, a\n",
    "\n",
    "# Input three numbers from the user\n",
    "num1 = float(input(\"Enter the first number: \"))\n",
    "num2 = float(input(\"Enter the second number: \"))\n",
    "num3 = float(input(\"Enter the third number: \"))\n",
    "\n",
    "# Sort the numbers in ascending order\n",
    "sorted_nums = sort_numbers(num1, num2, num3)\n",
    "\n",
    "# Display the sorted numbers\n",
    "print(\"Numbers in ascending order:\", sorted_nums)\n"
   ]
  },
  {
   "cell_type": "markdown",
   "id": "5c63584b-378d-4e1c-b32c-478fd924aaa8",
   "metadata": {},
   "source": [
    "29. Build a program that determines the roots of a quartic equation using numerical methods."
   ]
  },
  {
   "cell_type": "code",
   "execution_count": 12,
   "id": "289aabd0-ddc6-46ef-b959-2bd31cb3cefd",
   "metadata": {},
   "outputs": [
    {
     "name": "stdin",
     "output_type": "stream",
     "text": [
      "Enter coefficient a:  20\n",
      "Enter coefficient b:  50\n",
      "Enter coefficient c:  60\n",
      "Enter coefficient d:  20\n",
      "Enter coefficient e:  22\n"
     ]
    },
    {
     "name": "stdout",
     "output_type": "stream",
     "text": [
      "Roots of the quartic equation:\n",
      "[-1.26004570345067 - 1.02230904410096*I, -1.26004570345067 + 1.02230904410096*I, 0.0100457034506673 - 0.646297384562011*I, 0.0100457034506673 + 0.646297384562011*I]\n"
     ]
    }
   ],
   "source": [
    "### import sympy as sp\n",
    "\n",
    "def quartic_roots(a, b, c, d, e):\n",
    "    x = sp.symbols('x')\n",
    "    equation = a * x**4 + b * x**3 + c * x**2 + d * x + e\n",
    "    roots = sp.solve(equation, x)\n",
    "    return roots\n",
    "\n",
    "# Input coefficients of the quartic equation ax^4 + bx^3 + cx^2 + dx + e = 0\n",
    "a_val = float(input(\"Enter coefficient a: \"))\n",
    "b_val = float(input(\"Enter coefficient b: \"))\n",
    "c_val = float(input(\"Enter coefficient c: \"))\n",
    "d_val = float(input(\"Enter coefficient d: \"))\n",
    "e_val = float(input(\"Enter coefficient e: \"))\n",
    "\n",
    "# Calculate the roots of the quartic equation\n",
    "quartic_roots = quartic_roots(a_val, b_val, c_val, d_val, e_val)\n",
    "\n",
    "# Display the roots\n",
    "print(\"Roots of the quartic equation:\")\n",
    "print(quartic_roots)\n"
   ]
  },
  {
   "cell_type": "code",
   "execution_count": 10,
   "id": "a0bf0bb2-6453-4256-b3e7-17c688f9582d",
   "metadata": {},
   "outputs": [
    {
     "name": "stdout",
     "output_type": "stream",
     "text": [
      "Collecting sympy\n",
      "  Downloading sympy-1.12-py3-none-any.whl (5.7 MB)\n",
      "                                              0.0/5.7 MB ? eta -:--:--\n",
      "                                              0.1/5.7 MB 1.7 MB/s eta 0:00:04\n",
      "     --                                       0.3/5.7 MB 3.4 MB/s eta 0:00:02\n",
      "     -----                                    0.8/5.7 MB 5.8 MB/s eta 0:00:01\n",
      "     -------                                  1.0/5.7 MB 5.3 MB/s eta 0:00:01\n",
      "     --------                                 1.2/5.7 MB 5.0 MB/s eta 0:00:01\n",
      "     --------                                 1.2/5.7 MB 5.0 MB/s eta 0:00:01\n",
      "     --------                                 1.2/5.7 MB 5.0 MB/s eta 0:00:01\n",
      "     --------                                 1.2/5.7 MB 3.3 MB/s eta 0:00:02\n",
      "     -----------                              1.6/5.7 MB 3.8 MB/s eta 0:00:02\n",
      "     ------------                             1.8/5.7 MB 3.8 MB/s eta 0:00:02\n",
      "     -------------                            2.0/5.7 MB 3.8 MB/s eta 0:00:01\n",
      "     ---------------                          2.2/5.7 MB 3.8 MB/s eta 0:00:01\n",
      "     ----------------                         2.3/5.7 MB 3.8 MB/s eta 0:00:01\n",
      "     -----------------                        2.5/5.7 MB 3.8 MB/s eta 0:00:01\n",
      "     ------------------                       2.6/5.7 MB 3.8 MB/s eta 0:00:01\n",
      "     ------------------                       2.6/5.7 MB 3.8 MB/s eta 0:00:01\n",
      "     ------------------                       2.6/5.7 MB 3.8 MB/s eta 0:00:01\n",
      "     ------------------                       2.6/5.7 MB 3.1 MB/s eta 0:00:02\n",
      "     ---------------------                    3.2/5.7 MB 3.5 MB/s eta 0:00:01\n",
      "     -----------------------                  3.3/5.7 MB 3.5 MB/s eta 0:00:01\n",
      "     ------------------------                 3.5/5.7 MB 3.6 MB/s eta 0:00:01\n",
      "     -------------------------                3.6/5.7 MB 3.5 MB/s eta 0:00:01\n",
      "     --------------------------               3.8/5.7 MB 3.6 MB/s eta 0:00:01\n",
      "     ----------------------------             4.0/5.7 MB 3.6 MB/s eta 0:00:01\n",
      "     -----------------------------            4.2/5.7 MB 3.6 MB/s eta 0:00:01\n",
      "     -------------------------------          4.5/5.7 MB 3.6 MB/s eta 0:00:01\n",
      "     --------------------------------         4.6/5.7 MB 3.7 MB/s eta 0:00:01\n",
      "     ---------------------------------        4.8/5.7 MB 3.7 MB/s eta 0:00:01\n",
      "     ----------------------------------       5.0/5.7 MB 3.7 MB/s eta 0:00:01\n",
      "     ------------------------------------     5.2/5.7 MB 3.7 MB/s eta 0:00:01\n",
      "     -------------------------------------    5.4/5.7 MB 3.7 MB/s eta 0:00:01\n",
      "     --------------------------------------   5.5/5.7 MB 3.7 MB/s eta 0:00:01\n",
      "     ---------------------------------------  5.7/5.7 MB 3.7 MB/s eta 0:00:01\n",
      "     ---------------------------------------- 5.7/5.7 MB 3.5 MB/s eta 0:00:00\n",
      "Collecting mpmath>=0.19 (from sympy)\n",
      "  Downloading mpmath-1.3.0-py3-none-any.whl (536 kB)\n",
      "                                              0.0/536.2 kB ? eta -:--:--\n",
      "     --------------                         204.8/536.2 kB 4.1 MB/s eta 0:00:01\n",
      "     -----------------------------          419.8/536.2 kB 4.4 MB/s eta 0:00:01\n",
      "     -------------------------------------- 536.2/536.2 kB 4.2 MB/s eta 0:00:00\n",
      "Installing collected packages: mpmath, sympy\n",
      "Successfully installed mpmath-1.3.0 sympy-1.12\n",
      "Note: you may need to restart the kernel to use updated packages.\n"
     ]
    },
    {
     "name": "stderr",
     "output_type": "stream",
     "text": [
      "\n",
      "[notice] A new release of pip is available: 23.1.2 -> 23.3.2\n",
      "[notice] To update, run: python.exe -m pip install --upgrade pip\n"
     ]
    }
   ],
   "source": [
    "pip install sympy"
   ]
  },
  {
   "cell_type": "markdown",
   "id": "1742f1e9-cace-4f8a-813f-310e1e864966",
   "metadata": {},
   "source": [
    "30. Write a program that calculates the BMI (Body Mass Index) and provides health recommendations based\n",
    "on the user's input."
   ]
  },
  {
   "cell_type": "code",
   "execution_count": 15,
   "id": "1af0134f-5f2f-45e5-9d13-241ebe0d6ec6",
   "metadata": {},
   "outputs": [
    {
     "name": "stdin",
     "output_type": "stream",
     "text": [
      "Enter your weight in kilograms:  85\n",
      "Enter your height in meters:  5.9\n"
     ]
    },
    {
     "name": "stdout",
     "output_type": "stream",
     "text": [
      "Your BMI is: 2.44\n",
      "You are categorized as underweight.\n",
      "You might consider gaining some weight.\n"
     ]
    }
   ],
   "source": [
    "def calculate_bmi(weight, height):\r\n",
    "    return weight / (height ** 2)\r\n",
    "\r\n",
    "def bmi_category(bmi):\r\n",
    "    if bmi < 18.5:\r\n",
    "        return \"underweight\"\r\n",
    "    elif 18.5 <= bmi < 25:\r\n",
    "        return \"normal weight\"\r\n",
    "    elif 25 <= bmi < 30:\r\n",
    "        return \"overweight\"\r\n",
    "    else:\r\n",
    "        return \"obese\"\r\n",
    "\r\n",
    "# Input weight and height from the user\r\n",
    "weight = float(input(\"Enter your weight in kilograms: \"))\r\n",
    "height = float(input(\"Enter your height in meters: \"))\r\n",
    "\r\n",
    "# Calculate BMI\r\n",
    "bmi = calculate_bmi(weight, height)\r\n",
    "\r\n",
    "# Determine BMI category\r\n",
    "category = bmi_category(bmi)\r\n",
    "\r\n",
    "# Display BMI and health recommendations\r\n",
    "print(f\"Your BMI is: {bmi:.2f}\")\r\n",
    "print(f\"You are categorized as {category}.\")\r\n",
    "\r\n",
    "if category == \"underweight\":\r\n",
    "    print(\"You might consider gaining some weight.\")\r\n",
    "elif category == \"normal weight\":\r\n",
    "    print(\"Your weight is within the healthy range.\")\r\n",
    "elif category == \"overweight\":\r\n",
    "    print(\"You might consider losing some weight for better health.\")\r\n",
    "else:\r\n",
    "    print(\"It's advisable to consult a healthcare professional for weight management.\")\r\n"
   ]
  },
  {
   "cell_type": "markdown",
   "id": "77dbb024-06bf-4cf3-8111-dcf576ece4ba",
   "metadata": {},
   "source": [
    "31. Create a program that validates a password based on complexity rules (length, characters, etc.)."
   ]
  },
  {
   "cell_type": "code",
   "execution_count": 16,
   "id": "24b51947-81a8-4dda-8871-aa068c99c481",
   "metadata": {},
   "outputs": [
    {
     "name": "stdin",
     "output_type": "stream",
     "text": [
      "Enter your password:  Sayantan@00002\n"
     ]
    },
    {
     "name": "stdout",
     "output_type": "stream",
     "text": [
      "Password meets complexity requirements.\n"
     ]
    }
   ],
   "source": [
    "def validate_password(password):\n",
    "    # Define complexity rules\n",
    "    min_length = 8\n",
    "    has_uppercase = any(char.isupper() for char in password)\n",
    "    has_lowercase = any(char.islower() for char in password)\n",
    "    has_digit = any(char.isdigit() for char in password)\n",
    "    has_special_char = any(not char.isalnum() for char in password)\n",
    "\n",
    "    # Check if password meets complexity requirements\n",
    "    if len(password) < min_length:\n",
    "        return \"Password should be at least 8 characters long.\"\n",
    "    elif not has_uppercase:\n",
    "        return \"Password should contain at least one uppercase letter.\"\n",
    "    elif not has_lowercase:\n",
    "        return \"Password should contain at least one lowercase letter.\"\n",
    "    elif not has_digit:\n",
    "        return \"Password should contain at least one digit.\"\n",
    "    elif not has_special_char:\n",
    "        return \"Password should contain at least one special character.\"\n",
    "    else:\n",
    "        return \"Password meets complexity requirements.\"\n",
    "\n",
    "# Input password from the user\n",
    "user_password = input(\"Enter your password: \")\n",
    "\n",
    "# Validate the password\n",
    "result = validate_password(user_password)\n",
    "\n",
    "# Display validation result\n",
    "print(result)\n"
   ]
  },
  {
   "cell_type": "markdown",
   "id": "bbbdd275-6f96-421b-aef6-91ccab69b378",
   "metadata": {},
   "source": [
    "32. Develop a program that performs matrix addition and subtraction based on user input"
   ]
  },
  {
   "cell_type": "code",
   "execution_count": 2,
   "id": "bd44830e-58d9-4ec0-97bd-aaa9b773ec65",
   "metadata": {},
   "outputs": [
    {
     "name": "stdin",
     "output_type": "stream",
     "text": [
      "Enter the number of rows:  2\n",
      "Enter the number of columns:  1\n"
     ]
    },
    {
     "name": "stdout",
     "output_type": "stream",
     "text": [
      "Enter elements of the first matrix:\n"
     ]
    },
    {
     "name": "stdin",
     "output_type": "stream",
     "text": [
      "Enter element [1][1]:  2\n",
      "Enter element [2][1]:  1\n"
     ]
    },
    {
     "name": "stdout",
     "output_type": "stream",
     "text": [
      "Enter elements of the second matrix:\n"
     ]
    },
    {
     "name": "stdin",
     "output_type": "stream",
     "text": [
      "Enter element [1][1]:  3\n",
      "Enter element [2][1]:  5\n"
     ]
    },
    {
     "name": "stdout",
     "output_type": "stream",
     "text": [
      "\n",
      "Matrix Addition Result:\n",
      "[5.0]\n",
      "[6.0]\n",
      "\n",
      "Matrix Subtraction Result:\n",
      "[-1.0]\n",
      "[-4.0]\n"
     ]
    }
   ],
   "source": [
    "def matrix_addition(matrix1, matrix2):\n",
    "    result = []\n",
    "    for i in range(len(matrix1)):\n",
    "        row = []\n",
    "        for j in range(len(matrix1[0])):\n",
    "            row.append(matrix1[i][j] + matrix2[i][j])\n",
    "        result.append(row)\n",
    "    return result\n",
    "\n",
    "def matrix_subtraction(matrix1, matrix2):\n",
    "    result = []\n",
    "    for i in range(len(matrix1)):\n",
    "        row = []\n",
    "        for j in range(len(matrix1[0])):\n",
    "            row.append(matrix1[i][j] - matrix2[i][j])\n",
    "        result.append(row)\n",
    "    return result\n",
    "\n",
    "def input_matrix(rows, cols):\n",
    "    matrix = []\n",
    "    for i in range(rows):\n",
    "        row = []\n",
    "        for j in range(cols):\n",
    "            element = float(input(f\"Enter element [{i + 1}][{j + 1}]: \"))\n",
    "            row.append(element)\n",
    "        matrix.append(row)\n",
    "    return matrix\n",
    "\n",
    "def display_matrix(matrix):\n",
    "    for row in matrix:\n",
    "        print(row)\n",
    "\n",
    "# Input dimensions of matrices\n",
    "rows = int(input(\"Enter the number of rows: \"))\n",
    "cols = int(input(\"Enter the number of columns: \"))\n",
    "\n",
    "# Input first matrix\n",
    "print(\"Enter elements of the first matrix:\")\n",
    "matrix1 = input_matrix(rows, cols)\n",
    "\n",
    "# Input second matrix\n",
    "print(\"Enter elements of the second matrix:\")\n",
    "matrix2 = input_matrix(rows, cols)\n",
    "\n",
    "# Perform matrix addition and subtraction\n",
    "addition_result = matrix_addition(matrix1, matrix2)\n",
    "subtraction_result = matrix_subtraction(matrix1, matrix2)\n",
    "\n",
    "# Display the results\n",
    "print(\"\\nMatrix Addition Result:\")\n",
    "display_matrix(addition_result)\n",
    "\n",
    "print(\"\\nMatrix Subtraction Result:\")\n",
    "display_matrix(subtraction_result)\n"
   ]
  },
  {
   "cell_type": "markdown",
   "id": "a6da47aa-0dbe-4cd0-9445-78b4f90e2f19",
   "metadata": {},
   "source": [
    "33. Write a program that calculates the greatest common divisor (GCD) of two numbers using the Euclidean\n",
    "algorithm."
   ]
  },
  {
   "cell_type": "code",
   "execution_count": 3,
   "id": "1aeca505-7738-4f40-b98f-9216b924f6e7",
   "metadata": {},
   "outputs": [
    {
     "name": "stdin",
     "output_type": "stream",
     "text": [
      "Enter the first number:  5\n",
      "Enter the second number:  22\n"
     ]
    },
    {
     "name": "stdout",
     "output_type": "stream",
     "text": [
      "The GCD of 5 and 22 is: 1\n"
     ]
    }
   ],
   "source": [
    "def euclidean_gcd(a, b):\n",
    "    while b != 0:\n",
    "        a, b = b, a % b\n",
    "    return a\n",
    "\n",
    "# Input two numbers from the user\n",
    "num1 = int(input(\"Enter the first number: \"))\n",
    "num2 = int(input(\"Enter the second number: \"))\n",
    "\n",
    "# Calculate the GCD using the Euclidean algorithm\n",
    "gcd = euclidean_gcd(num1, num2)\n",
    "\n",
    "# Display the GCD\n",
    "print(f\"The GCD of {num1} and {num2} is: {gcd}\")\n"
   ]
  },
  {
   "cell_type": "markdown",
   "id": "214efb59-44fd-4e49-ab78-e66bc08e4557",
   "metadata": {},
   "source": [
    "34. Build a program that performs matrix multiplication using nested loops and conditional statements"
   ]
  },
  {
   "cell_type": "code",
   "execution_count": 2,
   "id": "b58f62f3-be89-42f2-9005-ed0be68fe1f7",
   "metadata": {},
   "outputs": [
    {
     "name": "stdin",
     "output_type": "stream",
     "text": [
      "Enter the number of rows for the first matrix:  2\n",
      "Enter the number of columns for the first matrix / rows for the second matrix:  1\n",
      "Enter the number of columns for the second matrix:  1\n"
     ]
    },
    {
     "name": "stdout",
     "output_type": "stream",
     "text": [
      "Enter elements for the first matrix:\n"
     ]
    },
    {
     "name": "stdin",
     "output_type": "stream",
     "text": [
      "Enter element [1][1] of the matrix:  12\n",
      "Enter element [2][1] of the matrix:  21\n"
     ]
    },
    {
     "name": "stdout",
     "output_type": "stream",
     "text": [
      "Enter elements for the second matrix:\n"
     ]
    },
    {
     "name": "stdin",
     "output_type": "stream",
     "text": [
      "Enter element [1][1] of the matrix:  22\n"
     ]
    },
    {
     "name": "stdout",
     "output_type": "stream",
     "text": [
      "\n",
      "Result of Matrix Multiplication:\n",
      "[264.0]\n",
      "[462.0]\n"
     ]
    }
   ],
   "source": [
    "def matrix_multiplication(matrix1, matrix2):\n",
    "    rows1 = len(matrix1)\n",
    "    cols1 = len(matrix1[0])\n",
    "    rows2 = len(matrix2)\n",
    "    cols2 = len(matrix2[0])\n",
    "\n",
    "    if cols1 != rows2:\n",
    "        return \"Matrix multiplication not possible. Columns of the first matrix must be equal to rows of the second.\"\n",
    "\n",
    "    result = [[0 for _ in range(cols2)] for _ in range(rows1)]\n",
    "\n",
    "    for i in range(rows1):\n",
    "        for j in range(cols2):\n",
    "            for k in range(cols1):\n",
    "                result[i][j] += matrix1[i][k] * matrix2[k][j]\n",
    "\n",
    "    return result\n",
    "\n",
    "def input_matrix(rows, cols):\n",
    "    matrix = []\n",
    "    for i in range(rows):\n",
    "        row = []\n",
    "        for j in range(cols):\n",
    "            element = float(input(f\"Enter element [{i + 1}][{j + 1}] of the matrix: \"))\n",
    "            row.append(element)\n",
    "        matrix.append(row)\n",
    "    return matrix\n",
    "\n",
    "def display_matrix(matrix):\n",
    "    for row in matrix:\n",
    "        print(row)\n",
    "\n",
    "# Input dimensions of matrices\n",
    "rows1 = int(input(\"Enter the number of rows for the first matrix: \"))\n",
    "cols1_rows2 = int(input(\"Enter the number of columns for the first matrix / rows for the second matrix: \"))\n",
    "cols2 = int(input(\"Enter the number of columns for the second matrix: \"))\n",
    "\n",
    "# Input elements for the first matrix\n",
    "print(\"Enter elements for the first matrix:\")\n",
    "matrix1 = input_matrix(rows1, cols1_rows2)\n",
    "\n",
    "# Input elements for the second matrix\n",
    "print(\"Enter elements for the second matrix:\")\n",
    "matrix2 = input_matrix(cols1_rows2, cols2)\n",
    "\n",
    "# Perform matrix multiplication\n",
    "result = matrix_multiplication(matrix1, matrix2)\n",
    "\n",
    "# Display the result of matrix multiplication\n",
    "print(\"\\nResult of Matrix Multiplication:\")\n",
    "if isinstance(result, str):\n",
    "    print(result)\n",
    "else:\n",
    "    display_matrix(result)\n"
   ]
  },
  {
   "cell_type": "markdown",
   "id": "3515be14-3a44-48df-963d-bde4c555d11f",
   "metadata": {},
   "source": [
    "35. Create a program that simulates a basic text-based tic-tac-toe game against the computer."
   ]
  },
  {
   "cell_type": "code",
   "execution_count": 3,
   "id": "ff6a670f-ad11-40ef-8abc-87c7b5845792",
   "metadata": {},
   "outputs": [
    {
     "name": "stdout",
     "output_type": "stream",
     "text": [
      "Welcome to Tic-Tac-Toe!\n",
      "+---+---+---+\n",
      "|   |   |   |\n",
      "+---+---+---+\n",
      "|   |   |   |\n",
      "+---+---+---+\n",
      "|   |   |   |\n",
      "+---+---+---+\n"
     ]
    },
    {
     "name": "stdin",
     "output_type": "stream",
     "text": [
      "Enter the row (1-3):  2\n",
      "Enter the column (1-3):  1\n"
     ]
    },
    {
     "name": "stdout",
     "output_type": "stream",
     "text": [
      "+---+---+---+\n",
      "|   |   |   |\n",
      "+---+---+---+\n",
      "| X |   |   |\n",
      "+---+---+---+\n",
      "|   |   |   |\n",
      "+---+---+---+\n",
      "+---+---+---+\n",
      "| O |   |   |\n",
      "+---+---+---+\n",
      "| X |   |   |\n",
      "+---+---+---+\n",
      "|   |   |   |\n",
      "+---+---+---+\n"
     ]
    },
    {
     "name": "stdin",
     "output_type": "stream",
     "text": [
      "Enter the row (1-3):  3\n",
      "Enter the column (1-3):  3\n"
     ]
    },
    {
     "name": "stdout",
     "output_type": "stream",
     "text": [
      "+---+---+---+\n",
      "| O |   |   |\n",
      "+---+---+---+\n",
      "| X |   |   |\n",
      "+---+---+---+\n",
      "|   |   | X |\n",
      "+---+---+---+\n",
      "+---+---+---+\n",
      "| O |   |   |\n",
      "+---+---+---+\n",
      "| X |   | O |\n",
      "+---+---+---+\n",
      "|   |   | X |\n",
      "+---+---+---+\n"
     ]
    },
    {
     "name": "stdin",
     "output_type": "stream",
     "text": [
      "Enter the row (1-3):  3\n",
      "Enter the column (1-3):  2\n"
     ]
    },
    {
     "name": "stdout",
     "output_type": "stream",
     "text": [
      "+---+---+---+\n",
      "| O |   |   |\n",
      "+---+---+---+\n",
      "| X |   | O |\n",
      "+---+---+---+\n",
      "|   | X | X |\n",
      "+---+---+---+\n",
      "+---+---+---+\n",
      "| O |   |   |\n",
      "+---+---+---+\n",
      "| X | O | O |\n",
      "+---+---+---+\n",
      "|   | X | X |\n",
      "+---+---+---+\n"
     ]
    },
    {
     "name": "stdin",
     "output_type": "stream",
     "text": [
      "Enter the row (1-3):  3\n",
      "Enter the column (1-3):  1\n"
     ]
    },
    {
     "name": "stdout",
     "output_type": "stream",
     "text": [
      "+---+---+---+\n",
      "| O |   |   |\n",
      "+---+---+---+\n",
      "| X | O | O |\n",
      "+---+---+---+\n",
      "| X | X | X |\n",
      "+---+---+---+\n",
      "Congratulations! You won!\n"
     ]
    }
   ],
   "source": [
    "import random\n",
    "\n",
    "def display_board(board):\n",
    "    print(\"+---+---+---+\")\n",
    "    for row in board:\n",
    "        print(f\"| {row[0]} | {row[1]} | {row[2]} |\")\n",
    "        print(\"+---+---+---+\")\n",
    "\n",
    "def check_winner(board, player):\n",
    "    for row in board:\n",
    "        if row.count(player) == 3:\n",
    "            return True\n",
    "\n",
    "    for col in range(3):\n",
    "        if board[0][col] == board[1][col] == board[2][col] == player:\n",
    "            return True\n",
    "\n",
    "    if board[0][0] == board[1][1] == board[2][2] == player or \\\n",
    "       board[0][2] == board[1][1] == board[2][0] == player:\n",
    "        return True\n",
    "\n",
    "    return False\n",
    "\n",
    "def is_space_free(board, row, col):\n",
    "    return board[row][col] == \" \"\n",
    "\n",
    "def is_board_full(board):\n",
    "    for row in board:\n",
    "        if \" \" in row:\n",
    "            return False\n",
    "    return True\n",
    "\n",
    "def player_move(board):\n",
    "    while True:\n",
    "        try:\n",
    "            row = int(input(\"Enter the row (1-3): \")) - 1\n",
    "            col = int(input(\"Enter the column (1-3): \")) - 1\n",
    "\n",
    "            if 0 <= row < 3 and 0 <= col < 3 and is_space_free(board, row, col):\n",
    "                board[row][col] = \"X\"\n",
    "                break\n",
    "            else:\n",
    "                print(\"Invalid move. Try again.\")\n",
    "        except ValueError:\n",
    "            print(\"Invalid input. Please enter a number.\")\n",
    "\n",
    "def computer_move(board):\n",
    "    while True:\n",
    "        row = random.randint(0, 2)\n",
    "        col = random.randint(0, 2)\n",
    "\n",
    "        if is_space_free(board, row, col):\n",
    "            board[row][col] = \"O\"\n",
    "            break\n",
    "\n",
    "def play_game():\n",
    "    board = [[\" \" for _ in range(3)] for _ in range(3)]\n",
    "    display_board(board)\n",
    "\n",
    "    while True:\n",
    "        player_move(board)\n",
    "        display_board(board)\n",
    "        if check_winner(board, \"X\"):\n",
    "            print(\"Congratulations! You won!\")\n",
    "            break\n",
    "        elif is_board_full(board):\n",
    "            print(\"It's a tie!\")\n",
    "            break\n",
    "\n",
    "        computer_move(board)\n",
    "        display_board(board)\n",
    "        if check_winner(board, \"O\"):\n",
    "            print(\"Computer wins! Try again.\")\n",
    "            break\n",
    "        elif is_board_full(board):\n",
    "            print(\"It's a tie!\")\n",
    "            break\n",
    "\n",
    "# Start the game\n",
    "print(\"Welcome to Tic-Tac-Toe!\")\n",
    "play_game()\n"
   ]
  },
  {
   "cell_type": "markdown",
   "id": "dcbc20c5-c229-4c2a-9867-602747112994",
   "metadata": {},
   "source": [
    "36. Write a program that generates Fibonacci numbers up to a specified term using iterative methods."
   ]
  },
  {
   "cell_type": "code",
   "execution_count": 4,
   "id": "bc65ded8-3127-45a4-85c3-1585aed6e065",
   "metadata": {},
   "outputs": [
    {
     "name": "stdin",
     "output_type": "stream",
     "text": [
      "Enter the number of terms for the Fibonacci sequence:  5\n"
     ]
    },
    {
     "name": "stdout",
     "output_type": "stream",
     "text": [
      "Fibonacci sequence up to term 5 is: [0, 1, 1, 2, 3]\n"
     ]
    }
   ],
   "source": [
    "def generate_fibonacci(n):\n",
    "    fibonacci_sequence = [0, 1]\n",
    "\n",
    "    if n <= 0:\n",
    "        return \"Please enter a positive integer.\"\n",
    "    elif n == 1:\n",
    "        return [0]\n",
    "    elif n == 2:\n",
    "        return fibonacci_sequence\n",
    "\n",
    "    for i in range(2, n):\n",
    "        next_num = fibonacci_sequence[-1] + fibonacci_sequence[-2]\n",
    "        fibonacci_sequence.append(next_num)\n",
    "\n",
    "    return fibonacci_sequence\n",
    "\n",
    "# Input the number of terms for the Fibonacci sequence\n",
    "terms = int(input(\"Enter the number of terms for the Fibonacci sequence: \"))\n",
    "\n",
    "# Generate and display the Fibonacci sequence up to the specified term\n",
    "result = generate_fibonacci(terms)\n",
    "print(\"Fibonacci sequence up to term\", terms, \"is:\", result)\n"
   ]
  },
  {
   "cell_type": "markdown",
   "id": "315d3ac2-0ad0-49a4-932a-51afcd7e41dd",
   "metadata": {},
   "source": [
    "37. Develop a program that calculates the nth term of the Fibonacci sequence using memoization."
   ]
  },
  {
   "cell_type": "code",
   "execution_count": 6,
   "id": "4179a1e5-2f51-4a64-983c-4c1e84b90c29",
   "metadata": {},
   "outputs": [
    {
     "name": "stdin",
     "output_type": "stream",
     "text": [
      "Enter the term of the Fibonacci sequence to calculate:  6\n"
     ]
    },
    {
     "name": "stdout",
     "output_type": "stream",
     "text": [
      "The 6th term of the Fibonacci sequence is: 8\n"
     ]
    }
   ],
   "source": [
    "def fibonacci(n, memo={}):\n",
    "    if n in memo:\n",
    "        return memo[n]\n",
    "    if n <= 2:\n",
    "        return 1\n",
    "\n",
    "    memo[n] = fibonacci(n - 1, memo) + fibonacci(n - 2, memo)\n",
    "    return memo[n]\n",
    "\n",
    "# Input the term of the Fibonacci sequence to calculate\n",
    "term = int(input(\"Enter the term of the Fibonacci sequence to calculate: \"))\n",
    "\n",
    "# Calculate and display the nth term of the Fibonacci sequence\n",
    "result = fibonacci(term)\n",
    "print(f\"The {term}th term of the Fibonacci sequence is: {result}\")\n"
   ]
  },
  {
   "cell_type": "markdown",
   "id": "3eac2c4b-ea5b-4e15-b52a-23f31a69f492",
   "metadata": {},
   "source": [
    "38. Create a program that generates a calendar for a given month and year using conditional statements"
   ]
  },
  {
   "cell_type": "code",
   "execution_count": 7,
   "id": "bc90a51f-367c-46c9-a710-8e10609fd681",
   "metadata": {},
   "outputs": [
    {
     "name": "stdin",
     "output_type": "stream",
     "text": [
      "Enter the year:  2024\n",
      "Enter the month (1-12):  1\n"
     ]
    },
    {
     "name": "stdout",
     "output_type": "stream",
     "text": [
      "    January 2024    \n",
      "MON TUE WED THU FRI SAT SUN\n",
      "  1   2   3   4   5   6   7 \n",
      "  8   9  10  11  12  13  14 \n",
      " 15  16  17  18  19  20  21 \n",
      " 22  23  24  25  26  27  28 \n",
      " 29  30  31                 \n"
     ]
    }
   ],
   "source": [
    "import calendar\n",
    "\n",
    "def generate_calendar(year, month):\n",
    "    cal = calendar.monthcalendar(year, month)\n",
    "    header = calendar.month_name[month] + \" \" + str(year)\n",
    "    print(header.center(20))\n",
    "    print(\"MON TUE WED THU FRI SAT SUN\")\n",
    "    for week in cal:\n",
    "        for day in week:\n",
    "            if day == 0:\n",
    "                print(\"    \", end=\"\")\n",
    "            else:\n",
    "                print(f\"{day:3} \", end=\"\")\n",
    "        print()\n",
    "\n",
    "# Input the year and month for the calendar\n",
    "year = int(input(\"Enter the year: \"))\n",
    "month = int(input(\"Enter the month (1-12): \"))\n",
    "\n",
    "# Generate and display the calendar for the specified month and year\n",
    "generate_calendar(year, month)\n"
   ]
  },
  {
   "cell_type": "markdown",
   "id": "71955674-0e4c-436f-8d5e-169717645294",
   "metadata": {},
   "source": [
    "39. Build a program that simulates a basic text-based blackjack game against the computer."
   ]
  },
  {
   "cell_type": "code",
   "execution_count": null,
   "id": "e7ece1bb-a83e-4797-8620-013ef937b06a",
   "metadata": {},
   "outputs": [
    {
     "name": "stdout",
     "output_type": "stream",
     "text": [
      "Welcome to Blackjack!\n",
      "\n",
      "Player's Hand: ['6', 'K']\n",
      "Dealer's Hand: [ 5 ] [Hidden]\n"
     ]
    }
   ],
   "source": [
    "import random\n",
    "\n",
    "# Function to calculate the value of a hand\n",
    "def calculate_hand_value(hand):\n",
    "    value = 0\n",
    "    ace_count = 0\n",
    "    \n",
    "    for card in hand:\n",
    "        if card in ['J', 'Q', 'K']:\n",
    "            value += 10\n",
    "        elif card == 'A':\n",
    "            value += 11\n",
    "            ace_count += 1\n",
    "        else:\n",
    "            value += int(card)\n",
    "            \n",
    "    while value > 21 and ace_count > 0:\n",
    "        value -= 10\n",
    "        ace_count -= 1\n",
    "        \n",
    "    return value\n",
    "\n",
    "# Function to deal a card\n",
    "def deal_card():\n",
    "    cards = ['2', '3', '4', '5', '6', '7', '8', '9', '10', 'J', 'Q', 'K', 'A']\n",
    "    return random.choice(cards)\n",
    "\n",
    "# Function to display the hands\n",
    "def display_hands(player_hand, dealer_hand, show_all=False):\n",
    "    print(\"\\nPlayer's Hand:\", player_hand)\n",
    "    if not show_all:\n",
    "        print(\"Dealer's Hand: [\", dealer_hand[0], \"]\", \"[Hidden]\")\n",
    "    else:\n",
    "        print(\"Dealer's Hand:\", dealer_hand)\n",
    "\n",
    "# Blackjack game logic\n",
    "def blackjack_game():\n",
    "    print(\"Welcome to Blackjack!\")\n",
    "\n",
    "    player_hand = [deal_card(), deal_card()]\n",
    "    dealer_hand = [deal_card(), deal_card()]\n",
    "\n",
    "    display_hands(player_hand, dealer_hand)\n",
    "\n",
    "    while True:\n",
    "        player_value = calculate_hand_value(player_hand)\n",
    "        if player_value == 21:\n",
    "            print(\"Blackjack! You win!\")\n",
    "            break\n",
    "        elif player_value > 21:\n",
    "            print(\"Busted! You lose!\")\n",
    "            break\n",
    "\n",
    "        choice = input(\"Do you want to hit or stand? (h/s): \").lower()\n",
    "        if choice == 'h':\n",
    "            player_hand.append(deal_card())\n",
    "            display_hands(player_hand, dealer_hand)\n",
    "        elif choice == 's':\n",
    "            break\n",
    "        else:\n",
    "            print(\"Invalid choice. Enter 'h' for hit or 's' for stand.\")\n",
    "\n",
    "    if calculate_hand_value(player_hand) <= 21:\n",
    "        while calculate_hand_value(dealer_hand) < 17:\n",
    "            dealer_hand.append(deal_card())\n",
    "\n",
    "        display_hands(player_hand, dealer_hand, show_all=True)\n",
    "\n",
    "        dealer_value = calculate_hand_value(dealer_hand)\n",
    "        if dealer_value > 21:\n",
    "            print(\"Dealer busted! You win!\")\n",
    "        elif dealer_value == calculate_hand_value(player_hand):\n",
    "            print(\"It's a tie!\")\n",
    "        elif dealer_value > calculate_hand_value(player_hand):\n",
    "            print(\"Dealer wins!\")\n",
    "        else:\n",
    "            print(\"You win!\")\n",
    "\n",
    "# Play the game\n",
    "blackjack_game()\n"
   ]
  },
  {
   "cell_type": "code",
   "execution_count": null,
   "id": "cb04f2db-7522-4e32-835e-1f59cf61468f",
   "metadata": {},
   "outputs": [],
   "source": []
  }
 ],
 "metadata": {
  "kernelspec": {
   "display_name": "Python 3 (ipykernel)",
   "language": "python",
   "name": "python3"
  },
  "language_info": {
   "codemirror_mode": {
    "name": "ipython",
    "version": 3
   },
   "file_extension": ".py",
   "mimetype": "text/x-python",
   "name": "python",
   "nbconvert_exporter": "python",
   "pygments_lexer": "ipython3",
   "version": "3.11.4"
  }
 },
 "nbformat": 4,
 "nbformat_minor": 5
}
